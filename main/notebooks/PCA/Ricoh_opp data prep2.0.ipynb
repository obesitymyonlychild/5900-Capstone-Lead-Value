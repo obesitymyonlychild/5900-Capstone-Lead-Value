{
 "cells": [
  {
   "cell_type": "code",
   "execution_count": 1,
   "id": "72627f94",
   "metadata": {},
   "outputs": [],
   "source": [
    "import pandas as pd\n",
    "\n",
    "base_path = 'C:\\\\Users\\\\zxy\\\\Desktop\\\\Capstone\\\\Data\\\\'\n",
    "Ricoh_Opps = pd.read_excel(f'{base_path}Copy of Ricoh_Opps_08022024.xlsx')"
   ]
  },
  {
   "cell_type": "code",
   "execution_count": 2,
   "id": "a843e3bd",
   "metadata": {},
   "outputs": [],
   "source": [
    "import pandas as pd\n",
    "import numpy as np\n",
    "import matplotlib.pyplot as plt\n",
    "import seaborn as sns\n",
    "import squarify\n",
    "import statsmodels.api as sm\n",
    "from tabulate import tabulate\n",
    "import warnings\n",
    "warnings.filterwarnings('ignore')\n"
   ]
  },
  {
   "cell_type": "code",
   "execution_count": 6,
   "id": "74cfe505",
   "metadata": {},
   "outputs": [],
   "source": [
    "opp = Ricoh_Opps\n",
    "opp.columns = opp.columns.str.lower()"
   ]
  },
  {
   "cell_type": "code",
   "execution_count": 7,
   "id": "5e98e180",
   "metadata": {},
   "outputs": [
    {
     "data": {
      "text/plain": [
       "0.8843518143142532"
      ]
     },
     "execution_count": 7,
     "metadata": {},
     "output_type": "execute_result"
    }
   ],
   "source": [
    "#prop of closed deal\n",
    "opp[opp.closed == 1].shape[0]/opp.shape[0]"
   ]
  },
  {
   "cell_type": "code",
   "execution_count": 8,
   "id": "6fdb3372",
   "metadata": {},
   "outputs": [
    {
     "data": {
      "text/plain": [
       "239"
      ]
     },
     "execution_count": 8,
     "metadata": {},
     "output_type": "execute_result"
    }
   ],
   "source": [
    "# how many deals not closed but have order rev?\n",
    "opp[(opp.closed == 0) & (opp.order_rev.notnull()) & (opp.order_rev!=0)].shape[0]"
   ]
  },
  {
   "cell_type": "code",
   "execution_count": 9,
   "id": "226fc1c7",
   "metadata": {},
   "outputs": [
    {
     "data": {
      "text/plain": [
       "0.8309029321115795"
      ]
     },
     "execution_count": 9,
     "metadata": {},
     "output_type": "execute_result"
    }
   ],
   "source": [
    "# % NA order_rev\n",
    "opp[opp.order_rev.isnull()].shape[0]/opp.shape[0]"
   ]
  },
  {
   "cell_type": "code",
   "execution_count": 10,
   "id": "9cacdb4a",
   "metadata": {},
   "outputs": [
    {
     "data": {
      "text/plain": [
       "0.8092026776246023"
      ]
     },
     "execution_count": 10,
     "metadata": {},
     "output_type": "execute_result"
    }
   ],
   "source": [
    "# % NA order_rev in closed deals\n",
    "opp_closed = opp[opp.closed == 1]\n",
    "opp_closed[opp_closed.order_rev.isnull()].shape[0]/opp_closed.shape[0]"
   ]
  },
  {
   "cell_type": "markdown",
   "id": "534474c3",
   "metadata": {},
   "source": [
    "## Ricoh_Opps "
   ]
  },
  {
   "cell_type": "code",
   "execution_count": 11,
   "id": "aa310d83",
   "metadata": {},
   "outputs": [
    {
     "data": {
      "text/plain": [
       "key                    0.000000\n",
       "lead_number           83.186516\n",
       "opportunity_number    14.344292\n",
       "quote_number          41.374864\n",
       "order_number          63.885646\n",
       "                        ...    \n",
       "nps                   86.959967\n",
       "department            62.371479\n",
       "job_type              60.176303\n",
       "employees_dnb          9.113333\n",
       "sales_dnb              9.113333\n",
       "Length: 73, dtype: float64"
      ]
     },
     "execution_count": 11,
     "metadata": {},
     "output_type": "execute_result"
    }
   ],
   "source": [
    "opp.isna().mean()*100"
   ]
  },
  {
   "cell_type": "code",
   "execution_count": 12,
   "id": "9ff34bf9",
   "metadata": {},
   "outputs": [],
   "source": [
    "# drop irrelavant cols\n",
    "opp = opp.drop(['quote_number', 'order_number'], axis = 1)"
   ]
  },
  {
   "cell_type": "code",
   "execution_count": null,
   "id": "72a2c852",
   "metadata": {},
   "outputs": [],
   "source": [
    "# L2 is missing"
   ]
  },
  {
   "cell_type": "markdown",
   "id": "093b6f56",
   "metadata": {},
   "source": [
    "## Lead "
   ]
  },
  {
   "cell_type": "code",
   "execution_count": 13,
   "id": "5e1e957e",
   "metadata": {},
   "outputs": [
    {
     "data": {
      "text/html": [
       "<div>\n",
       "<style scoped>\n",
       "    .dataframe tbody tr th:only-of-type {\n",
       "        vertical-align: middle;\n",
       "    }\n",
       "\n",
       "    .dataframe tbody tr th {\n",
       "        vertical-align: top;\n",
       "    }\n",
       "\n",
       "    .dataframe thead th {\n",
       "        text-align: right;\n",
       "    }\n",
       "</style>\n",
       "<table border=\"1\" class=\"dataframe\">\n",
       "  <thead>\n",
       "    <tr style=\"text-align: right;\">\n",
       "      <th></th>\n",
       "      <th>lead_number</th>\n",
       "      <th>opportunity_number</th>\n",
       "    </tr>\n",
       "    <tr>\n",
       "      <th>has_lead</th>\n",
       "      <th></th>\n",
       "      <th></th>\n",
       "    </tr>\n",
       "  </thead>\n",
       "  <tbody>\n",
       "    <tr>\n",
       "      <th>0</th>\n",
       "      <td>100.0</td>\n",
       "      <td>0.000000</td>\n",
       "    </tr>\n",
       "    <tr>\n",
       "      <th>1</th>\n",
       "      <td>0.0</td>\n",
       "      <td>85.314218</td>\n",
       "    </tr>\n",
       "  </tbody>\n",
       "</table>\n",
       "</div>"
      ],
      "text/plain": [
       "          lead_number  opportunity_number\n",
       "has_lead                                 \n",
       "0               100.0            0.000000\n",
       "1                 0.0           85.314218"
      ]
     },
     "execution_count": 13,
     "metadata": {},
     "output_type": "execute_result"
    }
   ],
   "source": [
    "opp.groupby('has_lead').apply(lambda x: x.isna().mean()*100)[['lead_number', 'opportunity_number']]"
   ]
  },
  {
   "cell_type": "code",
   "execution_count": 14,
   "id": "51dbd877",
   "metadata": {},
   "outputs": [
    {
     "data": {
      "text/plain": [
       "lead_number              0.000000\n",
       "lead_status_name         0.000000\n",
       "lead_sub_source          8.324437\n",
       "lead_primary_product     5.316252\n",
       "lead_date                0.000000\n",
       "has_lead                 0.000000\n",
       "lead                    54.775548\n",
       "dtype: float64"
      ]
     },
     "execution_count": 14,
     "metadata": {},
     "output_type": "execute_result"
    }
   ],
   "source": [
    "lead_cols = [col for col in opp.columns if 'lead' in col]\n",
    "opp_lead = opp[opp.lead_number.notnull()][lead_cols]\n",
    "opp_lead.isna().mean()*100"
   ]
  },
  {
   "cell_type": "code",
   "execution_count": 15,
   "id": "97ac40c2",
   "metadata": {},
   "outputs": [
    {
     "data": {
      "text/plain": [
       "lead_sub_source\n",
       "Website_RUSA             22545\n",
       "Paid Search              12360\n",
       "Webinar                  11353\n",
       "RUSA_Sales_Contact_Us     7822\n",
       "RUSA_Request_A_Quote      7114\n",
       "Cost Per Lead             6940\n",
       "Content Syndication       6303\n",
       "Paid Leads                5687\n",
       "Inbound                   5003\n",
       "Website_RUSA_v2           4044\n",
       "dtype: int64"
      ]
     },
     "execution_count": 15,
     "metadata": {},
     "output_type": "execute_result"
    }
   ],
   "source": [
    "opp_lead.groupby('lead_sub_source').size().sort_values(ascending = False).head(10)"
   ]
  },
  {
   "cell_type": "code",
   "execution_count": 16,
   "id": "90186b64",
   "metadata": {},
   "outputs": [],
   "source": [
    "# create a Unknown category for missing in source, primary\n",
    "opp[['lead_primary_product', 'lead_sub_source']].fillna('Unknown', inplace=True)"
   ]
  },
  {
   "cell_type": "code",
   "execution_count": 17,
   "id": "003d6ce1",
   "metadata": {},
   "outputs": [
    {
     "data": {
      "text/html": [
       "<div>\n",
       "<style scoped>\n",
       "    .dataframe tbody tr th:only-of-type {\n",
       "        vertical-align: middle;\n",
       "    }\n",
       "\n",
       "    .dataframe tbody tr th {\n",
       "        vertical-align: top;\n",
       "    }\n",
       "\n",
       "    .dataframe thead th {\n",
       "        text-align: right;\n",
       "    }\n",
       "</style>\n",
       "<table border=\"1\" class=\"dataframe\">\n",
       "  <thead>\n",
       "    <tr style=\"text-align: right;\">\n",
       "      <th></th>\n",
       "      <th>key</th>\n",
       "      <th>lead_number</th>\n",
       "      <th>opportunity_number</th>\n",
       "      <th>l2_rise_number</th>\n",
       "      <th>funnel_stage</th>\n",
       "      <th>lead_status_name</th>\n",
       "      <th>lead_sub_source</th>\n",
       "      <th>lead_primary_product</th>\n",
       "      <th>customer_segment</th>\n",
       "      <th>crm_industry</th>\n",
       "      <th>...</th>\n",
       "      <th>svc_calls</th>\n",
       "      <th>cv</th>\n",
       "      <th>mif</th>\n",
       "      <th>renewal</th>\n",
       "      <th>sat</th>\n",
       "      <th>nps</th>\n",
       "      <th>department</th>\n",
       "      <th>job_type</th>\n",
       "      <th>employees_dnb</th>\n",
       "      <th>sales_dnb</th>\n",
       "    </tr>\n",
       "  </thead>\n",
       "  <tbody>\n",
       "    <tr>\n",
       "      <th>0</th>\n",
       "      <td>O-1001591177</td>\n",
       "      <td>NaN</td>\n",
       "      <td>O-1001591177</td>\n",
       "      <td>A-1000882103</td>\n",
       "      <td>SQL</td>\n",
       "      <td>NaN</td>\n",
       "      <td>NaN</td>\n",
       "      <td>NaN</td>\n",
       "      <td>Federal</td>\n",
       "      <td>Federal</td>\n",
       "      <td>...</td>\n",
       "      <td>NaN</td>\n",
       "      <td>NaN</td>\n",
       "      <td>NaN</td>\n",
       "      <td>NaN</td>\n",
       "      <td>NaN</td>\n",
       "      <td>NaN</td>\n",
       "      <td>Unknown</td>\n",
       "      <td>Unknown</td>\n",
       "      <td>1965.0</td>\n",
       "      <td>2.346090e+06</td>\n",
       "    </tr>\n",
       "    <tr>\n",
       "      <th>1</th>\n",
       "      <td>O-1000558710</td>\n",
       "      <td>NaN</td>\n",
       "      <td>O-1000558710</td>\n",
       "      <td>A-0013759349</td>\n",
       "      <td>SQL</td>\n",
       "      <td>NaN</td>\n",
       "      <td>NaN</td>\n",
       "      <td>NaN</td>\n",
       "      <td>Enterprise</td>\n",
       "      <td>Healthcare</td>\n",
       "      <td>...</td>\n",
       "      <td>2233.0</td>\n",
       "      <td>144586274.0</td>\n",
       "      <td>1670.0</td>\n",
       "      <td>0.0</td>\n",
       "      <td>NaN</td>\n",
       "      <td>NaN</td>\n",
       "      <td>Operations / Compliance / Reco</td>\n",
       "      <td>Director</td>\n",
       "      <td>1683.0</td>\n",
       "      <td>2.579766e+09</td>\n",
       "    </tr>\n",
       "    <tr>\n",
       "      <th>2</th>\n",
       "      <td>O-1002059945</td>\n",
       "      <td>NaN</td>\n",
       "      <td>O-1002059945</td>\n",
       "      <td>A-0013508952</td>\n",
       "      <td>SQL</td>\n",
       "      <td>NaN</td>\n",
       "      <td>NaN</td>\n",
       "      <td>NaN</td>\n",
       "      <td>Strategic</td>\n",
       "      <td>Banking &amp; Finance</td>\n",
       "      <td>...</td>\n",
       "      <td>3210.0</td>\n",
       "      <td>719873594.0</td>\n",
       "      <td>26046.0</td>\n",
       "      <td>1.0</td>\n",
       "      <td>NaN</td>\n",
       "      <td>NaN</td>\n",
       "      <td>Procurement / Purchasing</td>\n",
       "      <td>Consultant</td>\n",
       "      <td>275502.0</td>\n",
       "      <td>8.529614e+10</td>\n",
       "    </tr>\n",
       "    <tr>\n",
       "      <th>3</th>\n",
       "      <td>O-1002269225</td>\n",
       "      <td>NaN</td>\n",
       "      <td>O-1002269225</td>\n",
       "      <td>A-1000882135</td>\n",
       "      <td>SQL</td>\n",
       "      <td>NaN</td>\n",
       "      <td>NaN</td>\n",
       "      <td>NaN</td>\n",
       "      <td>Federal</td>\n",
       "      <td>Federal</td>\n",
       "      <td>...</td>\n",
       "      <td>3501.0</td>\n",
       "      <td>379055914.0</td>\n",
       "      <td>2485.0</td>\n",
       "      <td>1105.0</td>\n",
       "      <td>8.67</td>\n",
       "      <td>8.33</td>\n",
       "      <td>Administration</td>\n",
       "      <td>Manager / Supervisor</td>\n",
       "      <td>230.0</td>\n",
       "      <td>3.033240e+07</td>\n",
       "    </tr>\n",
       "    <tr>\n",
       "      <th>4</th>\n",
       "      <td>O-1001952436</td>\n",
       "      <td>NaN</td>\n",
       "      <td>O-1001952436</td>\n",
       "      <td>A-0013508952</td>\n",
       "      <td>SQL</td>\n",
       "      <td>NaN</td>\n",
       "      <td>NaN</td>\n",
       "      <td>NaN</td>\n",
       "      <td>Strategic</td>\n",
       "      <td>Banking &amp; Finance</td>\n",
       "      <td>...</td>\n",
       "      <td>3089.0</td>\n",
       "      <td>725387056.0</td>\n",
       "      <td>26098.0</td>\n",
       "      <td>2.0</td>\n",
       "      <td>NaN</td>\n",
       "      <td>NaN</td>\n",
       "      <td>NaN</td>\n",
       "      <td>Director</td>\n",
       "      <td>275502.0</td>\n",
       "      <td>8.529614e+10</td>\n",
       "    </tr>\n",
       "  </tbody>\n",
       "</table>\n",
       "<p>5 rows × 71 columns</p>\n",
       "</div>"
      ],
      "text/plain": [
       "            key lead_number opportunity_number l2_rise_number funnel_stage  \\\n",
       "0  O-1001591177         NaN       O-1001591177   A-1000882103          SQL   \n",
       "1  O-1000558710         NaN       O-1000558710   A-0013759349          SQL   \n",
       "2  O-1002059945         NaN       O-1002059945   A-0013508952          SQL   \n",
       "3  O-1002269225         NaN       O-1002269225   A-1000882135          SQL   \n",
       "4  O-1001952436         NaN       O-1001952436   A-0013508952          SQL   \n",
       "\n",
       "  lead_status_name lead_sub_source lead_primary_product customer_segment  \\\n",
       "0              NaN             NaN                  NaN          Federal   \n",
       "1              NaN             NaN                  NaN       Enterprise   \n",
       "2              NaN             NaN                  NaN        Strategic   \n",
       "3              NaN             NaN                  NaN          Federal   \n",
       "4              NaN             NaN                  NaN        Strategic   \n",
       "\n",
       "        crm_industry  ...  svc_calls           cv      mif  renewal   sat  \\\n",
       "0            Federal  ...        NaN          NaN      NaN      NaN   NaN   \n",
       "1         Healthcare  ...     2233.0  144586274.0   1670.0      0.0   NaN   \n",
       "2  Banking & Finance  ...     3210.0  719873594.0  26046.0      1.0   NaN   \n",
       "3            Federal  ...     3501.0  379055914.0   2485.0   1105.0  8.67   \n",
       "4  Banking & Finance  ...     3089.0  725387056.0  26098.0      2.0   NaN   \n",
       "\n",
       "    nps                      department              job_type  employees_dnb  \\\n",
       "0   NaN                         Unknown               Unknown         1965.0   \n",
       "1   NaN  Operations / Compliance / Reco              Director         1683.0   \n",
       "2   NaN        Procurement / Purchasing            Consultant       275502.0   \n",
       "3  8.33                  Administration  Manager / Supervisor          230.0   \n",
       "4   NaN                             NaN              Director       275502.0   \n",
       "\n",
       "      sales_dnb  \n",
       "0  2.346090e+06  \n",
       "1  2.579766e+09  \n",
       "2  8.529614e+10  \n",
       "3  3.033240e+07  \n",
       "4  8.529614e+10  \n",
       "\n",
       "[5 rows x 71 columns]"
      ]
     },
     "execution_count": 17,
     "metadata": {},
     "output_type": "execute_result"
    }
   ],
   "source": [
    "opp.head()"
   ]
  },
  {
   "cell_type": "markdown",
   "id": "ae7f4e20",
   "metadata": {},
   "source": [
    "## Flag "
   ]
  },
  {
   "cell_type": "code",
   "execution_count": 18,
   "id": "f8609b20",
   "metadata": {},
   "outputs": [
    {
     "name": "stdout",
     "output_type": "stream",
     "text": [
      "['a4_bw_flag', 'a4_c_flag', 'a3_bw_flag', 'a3_c_flag', 'docuware_flag', 'ransomcare_flag', 'it_health_check_flag', 'ms_flag', 'pp_bw_cs_flag', 'pp_c_cs_flag', 'wf_bw_flag', 'wf_c_flag', 'bw_lp_flag', 'color_lp_flag', 'mindshift_flag']\n"
     ]
    },
    {
     "data": {
      "text/plain": [
       "key                     0.000000\n",
       "lead_number             0.000000\n",
       "opportunity_number    100.000000\n",
       "l2_rise_number         62.421895\n",
       "funnel_stage            0.000000\n",
       "                         ...    \n",
       "nps                    96.787265\n",
       "department             78.792883\n",
       "job_type               77.904997\n",
       "employees_dnb          62.429556\n",
       "sales_dnb              62.429556\n",
       "Length: 71, dtype: float64"
      ]
     },
     "execution_count": 18,
     "metadata": {},
     "output_type": "execute_result"
    }
   ],
   "source": [
    "flag_cols = [col for col in opp.columns if 'flag' in col]\n",
    "flag_cols.remove('mfp_flag')\n",
    "print(flag_cols)\n",
    "flag_na = opp[opp[flag_cols].isna().all(axis = 1)]\n",
    "flag_na.isna().mean()*100"
   ]
  },
  {
   "cell_type": "code",
   "execution_count": null,
   "id": "0f55e9cc",
   "metadata": {},
   "outputs": [],
   "source": []
  },
  {
   "cell_type": "markdown",
   "id": "99b06b80",
   "metadata": {},
   "source": [
    "## Check NA "
   ]
  },
  {
   "cell_type": "code",
   "execution_count": 19,
   "id": "4c48091e",
   "metadata": {},
   "outputs": [],
   "source": [
    "# Check for missing values in each column\n",
    "na_columns = opp.isna().sum()\n"
   ]
  },
  {
   "cell_type": "code",
   "execution_count": 20,
   "id": "3f8694d4",
   "metadata": {},
   "outputs": [
    {
     "name": "stdout",
     "output_type": "stream",
     "text": [
      "Columns with missing values:\n",
      "lead_number             681241\n",
      "opportunity_number      117470\n",
      "l2_rise_number           74589\n",
      "lead_status_name        681241\n",
      "lead_sub_source         692703\n",
      "lead_primary_product    688561\n",
      "a4_bw_flag              117470\n",
      "a4_c_flag               117470\n",
      "a3_bw_flag              117470\n",
      "a3_c_flag               117470\n",
      "docuware_flag           117470\n",
      "ransomcare_flag         117470\n",
      "it_health_check_flag    117470\n",
      "ms_flag                 117470\n",
      "pp_bw_cs_flag           117470\n",
      "pp_c_cs_flag            117470\n",
      "wf_bw_flag              117470\n",
      "wf_c_flag               117470\n",
      "bw_lp_flag              117470\n",
      "color_lp_flag           117470\n",
      "mindshift_flag          117470\n",
      "lead_date               681241\n",
      "opp_date                117470\n",
      "opp_rev                 118382\n",
      "quote_date              338832\n",
      "quote_rev               338832\n",
      "order_date              680341\n",
      "order_rev               680453\n",
      "close_date              201761\n",
      "sales_stage_status      117470\n",
      "close_days              201761\n",
      "eloqua                  108623\n",
      "eloqua oc               108623\n",
      "lead                    108623\n",
      "opp                     108623\n",
      "order                   108623\n",
      "quote                   108623\n",
      "sales                   108623\n",
      "web                     108623\n",
      "webinar                 108623\n",
      "cs                      245151\n",
      "hw                      245151\n",
      "its                     245151\n",
      "ms off                  245151\n",
      "ms on                   245151\n",
      "ps                      245151\n",
      "refi                    245151\n",
      "rent                    245151\n",
      "supp                    245151\n",
      "ts                      245151\n",
      "svc_calls               281262\n",
      "cv                      247734\n",
      "mif                     250388\n",
      "renewal                 250388\n",
      "sat                     712143\n",
      "nps                     712143\n",
      "department              510780\n",
      "job_type                492803\n",
      "employees_dnb            74632\n",
      "sales_dnb                74632\n",
      "dtype: int64\n"
     ]
    }
   ],
   "source": [
    "# Filter to show only columns with missing values\n",
    "columns_with_na = na_columns[na_columns > 0]\n",
    "\n",
    "if columns_with_na.empty:\n",
    "    print(\"No columns have missing values.\")\n",
    "else:\n",
    "    print(\"Columns with missing values:\")\n",
    "    print(columns_with_na)"
   ]
  },
  {
   "cell_type": "markdown",
   "id": "c9a739a8",
   "metadata": {},
   "source": [
    "## Categorical data "
   ]
  },
  {
   "cell_type": "code",
   "execution_count": 21,
   "id": "d610c8d7",
   "metadata": {},
   "outputs": [
    {
     "name": "stdout",
     "output_type": "stream",
     "text": [
      "Categorical columns:\n",
      "Index(['key', 'lead_number', 'opportunity_number', 'l2_rise_number',\n",
      "       'funnel_stage', 'lead_status_name', 'lead_sub_source',\n",
      "       'lead_primary_product', 'customer_segment', 'crm_industry',\n",
      "       'sales_stage_status', 'department', 'job_type'],\n",
      "      dtype='object')\n",
      "\n",
      "Numerical columns:\n",
      "Index(['a4_bw_flag', 'a4_c_flag', 'a3_bw_flag', 'a3_c_flag', 'docuware_flag',\n",
      "       'ransomcare_flag', 'it_health_check_flag', 'ms_flag', 'pp_bw_cs_flag',\n",
      "       'pp_c_cs_flag', 'wf_bw_flag', 'wf_c_flag', 'bw_lp_flag',\n",
      "       'color_lp_flag', 'mfp_flag', 'mindshift_flag', 'opp_rev', 'quote_rev',\n",
      "       'order_rev', 'closed', 'has_lead', 'open_days', 'close_days', 'win',\n",
      "       'rev', 'eloqua', 'eloqua oc', 'lead', 'opp', 'order', 'quote', 'sales',\n",
      "       'web', 'webinar', 'cs', 'hw', 'its', 'ms off', 'ms on', 'ps', 'refi',\n",
      "       'rent', 'supp', 'ts', 'svc_calls', 'cv', 'mif', 'renewal', 'sat', 'nps',\n",
      "       'employees_dnb', 'sales_dnb'],\n",
      "      dtype='object')\n"
     ]
    }
   ],
   "source": [
    "# Get categorical columns (including string/object data types)\n",
    "categorical_columns = opp.select_dtypes(include=['object', 'category']).columns\n",
    "\n",
    "# Get numerical columns (including int and float data types)\n",
    "numerical_columns = opp.select_dtypes(include=['number']).columns\n",
    "\n",
    "print(\"Categorical columns:\")\n",
    "print(categorical_columns)\n",
    "\n",
    "print(\"\\nNumerical columns:\")\n",
    "print(numerical_columns)"
   ]
  },
  {
   "cell_type": "code",
   "execution_count": 22,
   "id": "771099b6",
   "metadata": {},
   "outputs": [],
   "source": [
    "opp[['lead_primary_product', 'lead_sub_source','lead_status_name','lead_number']].fillna('Unknown', inplace=True)"
   ]
  },
  {
   "cell_type": "markdown",
   "id": "b3b11a6d",
   "metadata": {},
   "source": [
    "## numerical data "
   ]
  },
  {
   "cell_type": "code",
   "execution_count": 23,
   "id": "0ed55be9",
   "metadata": {},
   "outputs": [],
   "source": [
    "# For numerical columns using median\n",
    "opp['opp_rev'].fillna(opp['opp_rev'].median(), inplace=True)\n",
    "opp['quote_rev'].fillna(opp['quote_rev'].median(), inplace=True)\n",
    "opp['order_rev'].fillna(opp['order_rev'].median(), inplace=True)\n",
    "opp['rev'].fillna(opp['rev'].median(), inplace=True)\n",
    "opp['eloqua'].fillna(opp['eloqua'].median(), inplace=True)\n",
    "opp['eloqua oc'].fillna(opp['eloqua oc'].median(), inplace=True)\n",
    "opp['lead'].fillna(opp['lead'].median(), inplace=True)\n",
    "opp['opp'].fillna(opp['opp'].median(), inplace=True)\n",
    "opp['order'].fillna(opp['order'].median(), inplace=True)\n",
    "opp['quote'].fillna(opp['quote'].median(), inplace=True)\n",
    "opp['sales'].fillna(opp['sales'].median(), inplace=True)\n",
    "opp['sat'].fillna(opp['sat'].median(), inplace=True)\n",
    "opp['nps'].fillna(opp['nps'].median(), inplace=True)\n"
   ]
  },
  {
   "cell_type": "markdown",
   "id": "60577592",
   "metadata": {},
   "source": [
    "## Binary data"
   ]
  },
  {
   "cell_type": "code",
   "execution_count": 24,
   "id": "7f89b890",
   "metadata": {},
   "outputs": [],
   "source": [
    "# For binary flags, assuming missing values mean 'False'\n",
    "opp['a4_bw_flag'].fillna(0, inplace=True)\n",
    "opp['a4_c_flag'].fillna(0, inplace=True)\n",
    "opp['a3_bw_flag'].fillna(0, inplace=True)\n",
    "opp['a3_c_flag'].fillna(0, inplace=True)\n",
    "opp['docuware_flag'].fillna(0, inplace=True)\n",
    "opp['ransomcare_flag'].fillna(0, inplace=True)\n",
    "opp['it_health_check_flag'].fillna(0, inplace=True)\n",
    "opp['ms_flag'].fillna(0, inplace=True)\n",
    "opp['pp_bw_cs_flag'].fillna(0, inplace=True)\n",
    "opp['pp_bw_cs_flag'].fillna(0, inplace=True)\n",
    "opp['pp_c_cs_flag'].fillna(0, inplace=True)\n",
    "opp['wf_bw_flag'].fillna(0, inplace=True)\n",
    "opp['wf_c_flag'].fillna(0, inplace=True)\n",
    "opp['bw_lp_flag'].fillna(0, inplace=True)\n",
    "opp['color_lp_flag'].fillna(0, inplace=True)\n",
    "opp['mfp_flag'].fillna(0, inplace=True)\n",
    "opp['mindshift_flag'].fillna(0, inplace=True)\n",
    "\n"
   ]
  },
  {
   "cell_type": "markdown",
   "id": "306dc936",
   "metadata": {},
   "source": [
    "## Date columns "
   ]
  },
  {
   "cell_type": "code",
   "execution_count": 25,
   "id": "2ed569aa",
   "metadata": {},
   "outputs": [],
   "source": [
    "# For date columns, filling with NaT (missing date)\n",
    "#If missing dates are due to a lack of an event (e.g., no order placed), filling with a placeholder like NaT (Not a Time) can work.\n",
    "opp['lead_date'].fillna(pd.NaT, inplace=True)\n",
    "opp['opp_date'].fillna(pd.NaT, inplace=True)\n",
    "opp['quote_date'].fillna(pd.NaT, inplace=True)\n",
    "opp['order_date'].fillna(pd.NaT, inplace=True)\n",
    "opp['close_date'].fillna(pd.NaT, inplace=True)\n",
    "opp['close_days'].fillna(pd.NaT, inplace=True)\n"
   ]
  },
  {
   "cell_type": "markdown",
   "id": "ad715581",
   "metadata": {},
   "source": [
    "## Performance metrics columns "
   ]
  },
  {
   "cell_type": "code",
   "execution_count": 35,
   "id": "394f997f",
   "metadata": {},
   "outputs": [],
   "source": [
    "# For columns with performance metrics, filling with 0\n",
    "#assuming they represent no activity.\n",
    "opp['eloqua'].fillna(0, inplace=True)\n",
    "opp['eloqua oc'].fillna(0, inplace=True)\n",
    "opp['lead'].fillna(0, inplace=True)\n",
    "opp['opp'].fillna(0, inplace=True)\n",
    "opp['order'].fillna(0, inplace=True)\n",
    "opp['quote'].fillna(0, inplace=True)\n",
    "opp['sales'].fillna(0, inplace=True)\n",
    "opp['web'].fillna(0, inplace=True)\n",
    "opp['webinar'].fillna(0, inplace=True)\n",
    "opp[['cs', 'hw', 'its', 'ms off', 'ms on', 'ps', 'refi', 'rent', 'supp', 'ts', \n",
    "     'svc_calls', 'cv', 'mif', 'renewal', 'department', 'job_type']].fillna(0, inplace=True)\n",
    "opp['employees_dnb'].fillna(0, inplace=True)\n",
    "opp['sales_dnb'].fillna(0, inplace=True)\n",
    "opp['sales_stage_status'].fillna(0, inplace=True)\n"
   ]
  },
  {
   "cell_type": "markdown",
   "id": "f852c27b",
   "metadata": {},
   "source": [
    "## Now check NA again "
   ]
  },
  {
   "cell_type": "code",
   "execution_count": 36,
   "id": "8b5831a1",
   "metadata": {},
   "outputs": [
    {
     "name": "stdout",
     "output_type": "stream",
     "text": [
      "key                          0\n",
      "lead_number             681241\n",
      "opportunity_number      117470\n",
      "l2_rise_number           74589\n",
      "funnel_stage                 0\n",
      "lead_status_name        681241\n",
      "lead_sub_source         692703\n",
      "lead_primary_product    688561\n",
      "customer_segment             0\n",
      "crm_industry                 0\n",
      "a4_bw_flag                   0\n",
      "a4_c_flag                    0\n",
      "a3_bw_flag                   0\n",
      "a3_c_flag                    0\n",
      "docuware_flag                0\n",
      "ransomcare_flag              0\n",
      "it_health_check_flag         0\n",
      "ms_flag                      0\n",
      "pp_bw_cs_flag                0\n",
      "pp_c_cs_flag                 0\n",
      "wf_bw_flag                   0\n",
      "wf_c_flag                    0\n",
      "bw_lp_flag                   0\n",
      "color_lp_flag                0\n",
      "mfp_flag                     0\n",
      "mindshift_flag               0\n",
      "lead_date               681241\n",
      "opp_date                117470\n",
      "opp_rev                      0\n",
      "quote_date              338832\n",
      "quote_rev                    0\n",
      "order_date              680341\n",
      "order_rev                    0\n",
      "close_date              201761\n",
      "sales_stage_status           0\n",
      "closed                       0\n",
      "has_lead                     0\n",
      "start_date                   0\n",
      "open_days                    0\n",
      "close_days              201761\n",
      "win                          0\n",
      "rev                          0\n",
      "eloqua                       0\n",
      "eloqua oc                    0\n",
      "lead                         0\n",
      "opp                          0\n",
      "order                        0\n",
      "quote                        0\n",
      "sales                        0\n",
      "web                          0\n",
      "webinar                      0\n",
      "cs                      245151\n",
      "hw                      245151\n",
      "its                     245151\n",
      "ms off                  245151\n",
      "ms on                   245151\n",
      "ps                      245151\n",
      "refi                    245151\n",
      "rent                    245151\n",
      "supp                    245151\n",
      "ts                      245151\n",
      "svc_calls               281262\n",
      "cv                      247734\n",
      "mif                     250388\n",
      "renewal                 250388\n",
      "sat                          0\n",
      "nps                          0\n",
      "department              510780\n",
      "job_type                492803\n",
      "employees_dnb                0\n",
      "sales_dnb                    0\n",
      "dtype: int64\n"
     ]
    }
   ],
   "source": [
    "# Temporarily increase the number of rows displayed\n",
    "pd.set_option('display.max_rows', None)\n",
    "\n",
    "# Check missing values again\n",
    "print(opp.isna().sum())"
   ]
  },
  {
   "cell_type": "code",
   "execution_count": 38,
   "id": "49e95b4d",
   "metadata": {},
   "outputs": [
    {
     "data": {
      "text/html": [
       "<div>\n",
       "<style scoped>\n",
       "    .dataframe tbody tr th:only-of-type {\n",
       "        vertical-align: middle;\n",
       "    }\n",
       "\n",
       "    .dataframe tbody tr th {\n",
       "        vertical-align: top;\n",
       "    }\n",
       "\n",
       "    .dataframe thead th {\n",
       "        text-align: right;\n",
       "    }\n",
       "</style>\n",
       "<table border=\"1\" class=\"dataframe\">\n",
       "  <thead>\n",
       "    <tr style=\"text-align: right;\">\n",
       "      <th></th>\n",
       "      <th>key</th>\n",
       "      <th>lead_number</th>\n",
       "      <th>opportunity_number</th>\n",
       "      <th>l2_rise_number</th>\n",
       "      <th>funnel_stage</th>\n",
       "      <th>lead_status_name</th>\n",
       "      <th>lead_sub_source</th>\n",
       "      <th>lead_primary_product</th>\n",
       "      <th>customer_segment</th>\n",
       "      <th>crm_industry</th>\n",
       "      <th>...</th>\n",
       "      <th>svc_calls</th>\n",
       "      <th>cv</th>\n",
       "      <th>mif</th>\n",
       "      <th>renewal</th>\n",
       "      <th>sat</th>\n",
       "      <th>nps</th>\n",
       "      <th>department</th>\n",
       "      <th>job_type</th>\n",
       "      <th>employees_dnb</th>\n",
       "      <th>sales_dnb</th>\n",
       "    </tr>\n",
       "  </thead>\n",
       "  <tbody>\n",
       "    <tr>\n",
       "      <th>0</th>\n",
       "      <td>O-1001591177</td>\n",
       "      <td>NaN</td>\n",
       "      <td>O-1001591177</td>\n",
       "      <td>A-1000882103</td>\n",
       "      <td>SQL</td>\n",
       "      <td>NaN</td>\n",
       "      <td>NaN</td>\n",
       "      <td>NaN</td>\n",
       "      <td>Federal</td>\n",
       "      <td>Federal</td>\n",
       "      <td>...</td>\n",
       "      <td>NaN</td>\n",
       "      <td>NaN</td>\n",
       "      <td>NaN</td>\n",
       "      <td>NaN</td>\n",
       "      <td>7.60</td>\n",
       "      <td>7.75</td>\n",
       "      <td>Unknown</td>\n",
       "      <td>Unknown</td>\n",
       "      <td>1965.0</td>\n",
       "      <td>2.346090e+06</td>\n",
       "    </tr>\n",
       "    <tr>\n",
       "      <th>1</th>\n",
       "      <td>O-1000558710</td>\n",
       "      <td>NaN</td>\n",
       "      <td>O-1000558710</td>\n",
       "      <td>A-0013759349</td>\n",
       "      <td>SQL</td>\n",
       "      <td>NaN</td>\n",
       "      <td>NaN</td>\n",
       "      <td>NaN</td>\n",
       "      <td>Enterprise</td>\n",
       "      <td>Healthcare</td>\n",
       "      <td>...</td>\n",
       "      <td>2233.0</td>\n",
       "      <td>144586274.0</td>\n",
       "      <td>1670.0</td>\n",
       "      <td>0.0</td>\n",
       "      <td>7.60</td>\n",
       "      <td>7.75</td>\n",
       "      <td>Operations / Compliance / Reco</td>\n",
       "      <td>Director</td>\n",
       "      <td>1683.0</td>\n",
       "      <td>2.579766e+09</td>\n",
       "    </tr>\n",
       "    <tr>\n",
       "      <th>2</th>\n",
       "      <td>O-1002059945</td>\n",
       "      <td>NaN</td>\n",
       "      <td>O-1002059945</td>\n",
       "      <td>A-0013508952</td>\n",
       "      <td>SQL</td>\n",
       "      <td>NaN</td>\n",
       "      <td>NaN</td>\n",
       "      <td>NaN</td>\n",
       "      <td>Strategic</td>\n",
       "      <td>Banking &amp; Finance</td>\n",
       "      <td>...</td>\n",
       "      <td>3210.0</td>\n",
       "      <td>719873594.0</td>\n",
       "      <td>26046.0</td>\n",
       "      <td>1.0</td>\n",
       "      <td>7.60</td>\n",
       "      <td>7.75</td>\n",
       "      <td>Procurement / Purchasing</td>\n",
       "      <td>Consultant</td>\n",
       "      <td>275502.0</td>\n",
       "      <td>8.529614e+10</td>\n",
       "    </tr>\n",
       "    <tr>\n",
       "      <th>3</th>\n",
       "      <td>O-1002269225</td>\n",
       "      <td>NaN</td>\n",
       "      <td>O-1002269225</td>\n",
       "      <td>A-1000882135</td>\n",
       "      <td>SQL</td>\n",
       "      <td>NaN</td>\n",
       "      <td>NaN</td>\n",
       "      <td>NaN</td>\n",
       "      <td>Federal</td>\n",
       "      <td>Federal</td>\n",
       "      <td>...</td>\n",
       "      <td>3501.0</td>\n",
       "      <td>379055914.0</td>\n",
       "      <td>2485.0</td>\n",
       "      <td>1105.0</td>\n",
       "      <td>8.67</td>\n",
       "      <td>8.33</td>\n",
       "      <td>Administration</td>\n",
       "      <td>Manager / Supervisor</td>\n",
       "      <td>230.0</td>\n",
       "      <td>3.033240e+07</td>\n",
       "    </tr>\n",
       "    <tr>\n",
       "      <th>4</th>\n",
       "      <td>O-1001952436</td>\n",
       "      <td>NaN</td>\n",
       "      <td>O-1001952436</td>\n",
       "      <td>A-0013508952</td>\n",
       "      <td>SQL</td>\n",
       "      <td>NaN</td>\n",
       "      <td>NaN</td>\n",
       "      <td>NaN</td>\n",
       "      <td>Strategic</td>\n",
       "      <td>Banking &amp; Finance</td>\n",
       "      <td>...</td>\n",
       "      <td>3089.0</td>\n",
       "      <td>725387056.0</td>\n",
       "      <td>26098.0</td>\n",
       "      <td>2.0</td>\n",
       "      <td>7.60</td>\n",
       "      <td>7.75</td>\n",
       "      <td>NaN</td>\n",
       "      <td>Director</td>\n",
       "      <td>275502.0</td>\n",
       "      <td>8.529614e+10</td>\n",
       "    </tr>\n",
       "  </tbody>\n",
       "</table>\n",
       "<p>5 rows × 71 columns</p>\n",
       "</div>"
      ],
      "text/plain": [
       "            key lead_number opportunity_number l2_rise_number funnel_stage  \\\n",
       "0  O-1001591177         NaN       O-1001591177   A-1000882103          SQL   \n",
       "1  O-1000558710         NaN       O-1000558710   A-0013759349          SQL   \n",
       "2  O-1002059945         NaN       O-1002059945   A-0013508952          SQL   \n",
       "3  O-1002269225         NaN       O-1002269225   A-1000882135          SQL   \n",
       "4  O-1001952436         NaN       O-1001952436   A-0013508952          SQL   \n",
       "\n",
       "  lead_status_name lead_sub_source lead_primary_product customer_segment  \\\n",
       "0              NaN             NaN                  NaN          Federal   \n",
       "1              NaN             NaN                  NaN       Enterprise   \n",
       "2              NaN             NaN                  NaN        Strategic   \n",
       "3              NaN             NaN                  NaN          Federal   \n",
       "4              NaN             NaN                  NaN        Strategic   \n",
       "\n",
       "        crm_industry  ...  svc_calls           cv      mif  renewal   sat  \\\n",
       "0            Federal  ...        NaN          NaN      NaN      NaN  7.60   \n",
       "1         Healthcare  ...     2233.0  144586274.0   1670.0      0.0  7.60   \n",
       "2  Banking & Finance  ...     3210.0  719873594.0  26046.0      1.0  7.60   \n",
       "3            Federal  ...     3501.0  379055914.0   2485.0   1105.0  8.67   \n",
       "4  Banking & Finance  ...     3089.0  725387056.0  26098.0      2.0  7.60   \n",
       "\n",
       "    nps                      department              job_type  employees_dnb  \\\n",
       "0  7.75                         Unknown               Unknown         1965.0   \n",
       "1  7.75  Operations / Compliance / Reco              Director         1683.0   \n",
       "2  7.75        Procurement / Purchasing            Consultant       275502.0   \n",
       "3  8.33                  Administration  Manager / Supervisor          230.0   \n",
       "4  7.75                             NaN              Director       275502.0   \n",
       "\n",
       "      sales_dnb  \n",
       "0  2.346090e+06  \n",
       "1  2.579766e+09  \n",
       "2  8.529614e+10  \n",
       "3  3.033240e+07  \n",
       "4  8.529614e+10  \n",
       "\n",
       "[5 rows x 71 columns]"
      ]
     },
     "execution_count": 38,
     "metadata": {},
     "output_type": "execute_result"
    }
   ],
   "source": [
    "opp.head()"
   ]
  },
  {
   "cell_type": "code",
   "execution_count": 39,
   "id": "a6446902",
   "metadata": {
    "scrolled": true
   },
   "outputs": [
    {
     "name": "stdout",
     "output_type": "stream",
     "text": [
      "cs            float64\n",
      "hw            float64\n",
      "its           float64\n",
      "ms off        float64\n",
      "ms on         float64\n",
      "ps            float64\n",
      "refi          float64\n",
      "rent          float64\n",
      "supp          float64\n",
      "ts            float64\n",
      "svc_calls     float64\n",
      "cv            float64\n",
      "mif           float64\n",
      "renewal       float64\n",
      "department     object\n",
      "job_type       object\n",
      "dtype: object\n"
     ]
    }
   ],
   "source": [
    "print(opp[['cs', 'hw', 'its', 'ms off', 'ms on', 'ps', 'refi', 'rent', 'supp', 'ts', 'svc_calls', 'cv', 'mif', 'renewal', 'department', 'job_type']].dtypes)\n"
   ]
  },
  {
   "cell_type": "code",
   "execution_count": 41,
   "id": "af95fee3",
   "metadata": {},
   "outputs": [],
   "source": [
    "#inplace=True is not working as expected, try assigning the result of fillna back to the DataFrame:\n",
    "opp[['cs', 'hw', 'its', 'ms off', 'ms on', 'ps', 'refi', 'rent', 'supp', 'ts', 'svc_calls', 'cv', 'mif', 'renewal']] = opp[['cs', 'hw', 'its', 'ms off', 'ms on', 'ps', 'refi', 'rent', 'supp', 'ts', 'svc_calls', 'cv', 'mif', 'renewal']].fillna(0)\n"
   ]
  },
  {
   "cell_type": "code",
   "execution_count": 42,
   "id": "0122474d",
   "metadata": {
    "scrolled": true
   },
   "outputs": [
    {
     "name": "stdout",
     "output_type": "stream",
     "text": [
      "cs           0\n",
      "hw           0\n",
      "its          0\n",
      "ms off       0\n",
      "ms on        0\n",
      "ps           0\n",
      "refi         0\n",
      "rent         0\n",
      "supp         0\n",
      "ts           0\n",
      "svc_calls    0\n",
      "cv           0\n",
      "mif          0\n",
      "renewal      0\n",
      "dtype: int64\n"
     ]
    }
   ],
   "source": [
    "print(opp[['cs', 'hw', 'its', 'ms off', 'ms on', 'ps', 'refi', 'rent', 'supp', 'ts', 'svc_calls', 'cv', 'mif', 'renewal']].isna().sum())\n"
   ]
  },
  {
   "cell_type": "code",
   "execution_count": 43,
   "id": "765b8432",
   "metadata": {},
   "outputs": [],
   "source": [
    "opp['department'].fillna('Unknown', inplace=True)  \n",
    "opp['job_type'].fillna('Unknown', inplace=True)\n"
   ]
  },
  {
   "cell_type": "code",
   "execution_count": 44,
   "id": "99957044",
   "metadata": {},
   "outputs": [
    {
     "name": "stdout",
     "output_type": "stream",
     "text": [
      "department    0\n",
      "job_type      0\n",
      "dtype: int64\n"
     ]
    }
   ],
   "source": [
    "print(opp[['department', 'job_type']].isna().sum())\n"
   ]
  },
  {
   "cell_type": "markdown",
   "id": "8ad0f6c8",
   "metadata": {},
   "source": [
    "## Try another way to impute date columns NA but seems not working"
   ]
  },
  {
   "cell_type": "code",
   "execution_count": 47,
   "id": "ec4161a1",
   "metadata": {
    "scrolled": true
   },
   "outputs": [
    {
     "name": "stdout",
     "output_type": "stream",
     "text": [
      "lead_date     datetime64[ns]\n",
      "opp_date      datetime64[ns]\n",
      "quote_date    datetime64[ns]\n",
      "order_date    datetime64[ns]\n",
      "close_date    datetime64[ns]\n",
      "close_days            object\n",
      "dtype: object\n"
     ]
    }
   ],
   "source": [
    "print(opp[['lead_date', 'opp_date', 'quote_date', 'order_date', 'close_date', 'close_days']].dtypes)\n"
   ]
  },
  {
   "cell_type": "code",
   "execution_count": 51,
   "id": "6a60b610",
   "metadata": {},
   "outputs": [],
   "source": [
    "opp['close_days'].fillna('N/A', inplace=True)"
   ]
  },
  {
   "cell_type": "code",
   "execution_count": 52,
   "id": "1b75bd04",
   "metadata": {},
   "outputs": [
    {
     "name": "stdout",
     "output_type": "stream",
     "text": [
      "0\n"
     ]
    }
   ],
   "source": [
    "print(opp['close_days'].isna().sum())"
   ]
  },
  {
   "cell_type": "code",
   "execution_count": 56,
   "id": "3c4aa6b7",
   "metadata": {},
   "outputs": [],
   "source": [
    "opp['lead_date'] = pd.to_datetime(opp['lead_date'], errors='coerce')\n",
    "opp['opp_date'] = pd.to_datetime(opp['opp_date'], errors='coerce')\n",
    "opp['quote_date'] = pd.to_datetime(opp['quote_date'], errors='coerce')\n",
    "opp['order_date'] = pd.to_datetime(opp['order_date'], errors='coerce')\n",
    "opp['close_date'] = pd.to_datetime(opp['close_date'], errors='coerce')\n"
   ]
  },
  {
   "cell_type": "code",
   "execution_count": 57,
   "id": "9543904f",
   "metadata": {},
   "outputs": [],
   "source": [
    "opp['lead_date'].fillna(pd.NaT, inplace=True)\n",
    "opp['opp_date'].fillna(pd.NaT, inplace=True)\n",
    "opp['quote_date'].fillna(pd.NaT, inplace=True)\n",
    "opp['order_date'].fillna(pd.NaT, inplace=True)\n",
    "opp['close_date'].fillna(pd.NaT, inplace=True)\n"
   ]
  },
  {
   "cell_type": "code",
   "execution_count": 58,
   "id": "eef589d4",
   "metadata": {},
   "outputs": [
    {
     "name": "stdout",
     "output_type": "stream",
     "text": [
      "lead_date     681241\n",
      "opp_date      117470\n",
      "quote_date    338832\n",
      "order_date    680341\n",
      "close_date    201761\n",
      "dtype: int64\n"
     ]
    }
   ],
   "source": [
    "print(opp[['lead_date', 'opp_date', 'quote_date', 'order_date', 'close_date']].isna().sum())\n"
   ]
  },
  {
   "cell_type": "code",
   "execution_count": 59,
   "id": "9242c37e",
   "metadata": {
    "scrolled": true
   },
   "outputs": [
    {
     "name": "stdout",
     "output_type": "stream",
     "text": [
      "Unique values in lead_date:\n",
      "<DatetimeArray>\n",
      "[                'NaT', '2021-09-13 00:00:00', '2021-05-14 00:00:00',\n",
      " '2021-06-07 00:00:00', '2022-05-04 00:00:00', '2020-01-15 00:00:00',\n",
      " '2019-11-20 00:00:00', '2023-10-25 00:00:00', '2023-05-23 00:00:00',\n",
      " '2019-06-27 00:00:00',\n",
      " ...\n",
      " '2020-04-12 00:00:00', '2023-07-01 00:00:00', '2021-06-20 00:00:00',\n",
      " '2022-03-13 00:00:00', '2022-04-23 00:00:00', '2022-03-19 00:00:00',\n",
      " '2021-12-25 00:00:00', '2024-04-07 00:00:00', '2022-06-26 00:00:00',\n",
      " '2018-03-09 00:00:00']\n",
      "Length: 2059, dtype: datetime64[ns]\n",
      "Unique values in opp_date:\n",
      "<DatetimeArray>\n",
      "['2021-09-08 00:00:00', '2019-02-28 00:00:00', '2022-09-16 00:00:00',\n",
      " '2023-03-18 00:00:00', '2022-07-12 00:00:00', '2019-11-18 00:00:00',\n",
      " '2020-11-30 00:00:00', '2021-11-02 00:00:00', '2021-12-01 00:00:00',\n",
      " '2022-06-23 00:00:00',\n",
      " ...\n",
      " '2022-11-26 00:00:00', '2022-07-03 00:00:00', '2018-08-23 00:00:00',\n",
      " '2018-01-16 00:00:00', '2024-07-21 00:00:00', '2018-07-27 00:00:00',\n",
      " '2020-04-19 00:00:00',                 'NaT', '2018-01-31 00:00:00',\n",
      " '2023-12-24 00:00:00']\n",
      "Length: 2109, dtype: datetime64[ns]\n",
      "Unique values in quote_date:\n",
      "<DatetimeArray>\n",
      "[                'NaT', '2020-01-23 00:00:00', '2020-03-16 00:00:00',\n",
      " '2019-10-15 00:00:00', '2019-09-11 00:00:00', '2019-11-04 00:00:00',\n",
      " '2019-06-27 00:00:00', '2019-07-05 00:00:00', '2019-11-27 00:00:00',\n",
      " '2023-01-27 00:00:00',\n",
      " ...\n",
      " '2020-05-23 00:00:00', '2020-11-26 00:00:00', '2021-01-01 00:00:00',\n",
      " '2020-07-05 00:00:00', '2023-11-25 00:00:00', '2021-02-20 00:00:00',\n",
      " '2023-12-24 00:00:00', '2021-11-26 00:00:00', '2020-07-04 00:00:00',\n",
      " '2019-12-28 00:00:00']\n",
      "Length: 1928, dtype: datetime64[ns]\n",
      "Unique values in order_date:\n",
      "<DatetimeArray>\n",
      "[                'NaT', '2023-01-27 00:00:00', '2024-06-21 00:00:00',\n",
      " '2021-12-23 00:00:00', '2022-08-29 00:00:00', '2022-06-29 00:00:00',\n",
      " '2023-07-19 00:00:00', '2021-01-18 00:00:00', '2021-10-26 00:00:00',\n",
      " '2023-12-14 00:00:00',\n",
      " ...\n",
      " '2020-01-11 00:00:00', '2020-09-19 00:00:00', '2023-11-26 00:00:00',\n",
      " '2023-04-01 00:00:00', '2020-03-21 00:00:00', '2020-02-15 00:00:00',\n",
      " '2023-08-13 00:00:00', '2020-07-09 00:00:00', '2020-09-26 00:00:00',\n",
      " '2022-06-26 00:00:00']\n",
      "Length: 1631, dtype: datetime64[ns]\n",
      "Unique values in close_date:\n",
      "<DatetimeArray>\n",
      "['2021-12-20 00:00:00', '2019-08-14 00:00:00', '2023-09-18 00:00:00',\n",
      " '2023-11-16 00:00:00', '2023-10-02 00:00:00', '2019-11-19 00:00:00',\n",
      " '2021-06-19 00:00:00', '2022-04-27 00:00:00', '2021-12-31 00:00:00',\n",
      " '2021-12-06 00:00:00',\n",
      " ...\n",
      " '2021-01-10 00:00:00', '2020-10-17 00:00:00', '2021-08-22 00:00:00',\n",
      " '2019-07-21 00:00:00', '2021-05-16 00:00:00', '2022-07-10 00:00:00',\n",
      " '2024-05-19 00:00:00', '2022-06-11 00:00:00', '2019-11-16 00:00:00',\n",
      " '2020-09-20 00:00:00']\n",
      "Length: 2011, dtype: datetime64[ns]\n"
     ]
    }
   ],
   "source": [
    "print(\"Unique values in lead_date:\")\n",
    "print(opp['lead_date'].unique())\n",
    "\n",
    "print(\"Unique values in opp_date:\")\n",
    "print(opp['opp_date'].unique())\n",
    "\n",
    "print(\"Unique values in quote_date:\")\n",
    "print(opp['quote_date'].unique())\n",
    "\n",
    "print(\"Unique values in order_date:\")\n",
    "print(opp['order_date'].unique())\n",
    "\n",
    "print(\"Unique values in close_date:\")\n",
    "print(opp['close_date'].unique())\n"
   ]
  },
  {
   "cell_type": "code",
   "execution_count": 60,
   "id": "694e49b7",
   "metadata": {},
   "outputs": [
    {
     "name": "stdout",
     "output_type": "stream",
     "text": [
      "key                          0\n",
      "lead_number             681241\n",
      "opportunity_number      117470\n",
      "l2_rise_number           74589\n",
      "funnel_stage                 0\n",
      "lead_status_name        681241\n",
      "lead_sub_source         692703\n",
      "lead_primary_product    688561\n",
      "customer_segment             0\n",
      "crm_industry                 0\n",
      "a4_bw_flag                   0\n",
      "a4_c_flag                    0\n",
      "a3_bw_flag                   0\n",
      "a3_c_flag                    0\n",
      "docuware_flag                0\n",
      "ransomcare_flag              0\n",
      "it_health_check_flag         0\n",
      "ms_flag                      0\n",
      "pp_bw_cs_flag                0\n",
      "pp_c_cs_flag                 0\n",
      "wf_bw_flag                   0\n",
      "wf_c_flag                    0\n",
      "bw_lp_flag                   0\n",
      "color_lp_flag                0\n",
      "mfp_flag                     0\n",
      "mindshift_flag               0\n",
      "lead_date               681241\n",
      "opp_date                117470\n",
      "opp_rev                      0\n",
      "quote_date              338832\n",
      "quote_rev                    0\n",
      "order_date              680341\n",
      "order_rev                    0\n",
      "close_date              201761\n",
      "sales_stage_status           0\n",
      "closed                       0\n",
      "has_lead                     0\n",
      "start_date                   0\n",
      "open_days                    0\n",
      "close_days                   0\n",
      "win                          0\n",
      "rev                          0\n",
      "eloqua                       0\n",
      "eloqua oc                    0\n",
      "lead                         0\n",
      "opp                          0\n",
      "order                        0\n",
      "quote                        0\n",
      "sales                        0\n",
      "web                          0\n",
      "webinar                      0\n",
      "cs                           0\n",
      "hw                           0\n",
      "its                          0\n",
      "ms off                       0\n",
      "ms on                        0\n",
      "ps                           0\n",
      "refi                         0\n",
      "rent                         0\n",
      "supp                         0\n",
      "ts                           0\n",
      "svc_calls                    0\n",
      "cv                           0\n",
      "mif                          0\n",
      "renewal                      0\n",
      "sat                          0\n",
      "nps                          0\n",
      "department                   0\n",
      "job_type                     0\n",
      "employees_dnb                0\n",
      "sales_dnb                    0\n",
      "dtype: int64\n"
     ]
    }
   ],
   "source": [
    "# Temporarily increase the number of rows displayed\n",
    "pd.set_option('display.max_rows', None)\n",
    "\n",
    "# Check missing values again\n",
    "print(opp.isna().sum())"
   ]
  },
  {
   "cell_type": "code",
   "execution_count": null,
   "id": "d3253162",
   "metadata": {},
   "outputs": [],
   "source": []
  }
 ],
 "metadata": {
  "kernelspec": {
   "display_name": "Python 3 (ipykernel)",
   "language": "python",
   "name": "python3"
  },
  "language_info": {
   "codemirror_mode": {
    "name": "ipython",
    "version": 3
   },
   "file_extension": ".py",
   "mimetype": "text/x-python",
   "name": "python",
   "nbconvert_exporter": "python",
   "pygments_lexer": "ipython3",
   "version": "3.11.5"
  }
 },
 "nbformat": 4,
 "nbformat_minor": 5
}
