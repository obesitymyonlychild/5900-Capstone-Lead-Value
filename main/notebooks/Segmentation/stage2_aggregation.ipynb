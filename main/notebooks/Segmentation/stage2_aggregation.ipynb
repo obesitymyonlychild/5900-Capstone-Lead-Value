{
 "cells": [
  {
   "cell_type": "markdown",
   "id": "7fab4e59-4650-427c-8446-ed092c706a7c",
   "metadata": {},
   "source": [
    "# Customer Segmentation - Data Prep"
   ]
  },
  {
   "cell_type": "code",
   "execution_count": 1,
   "id": "faba8d7e-a947-4f79-9973-df805787681a",
   "metadata": {},
   "outputs": [],
   "source": [
    "import pandas as pd\n",
    "import numpy as np\n",
    "import matplotlib.pyplot as plt\n",
    "import seaborn as sns\n",
    "import statsmodels.api as sm\n",
    "from tabulate import tabulate\n",
    "import warnings\n",
    "from functools import reduce\n",
    "from sklearn.impute import KNNImputer\n",
    "from sklearn.manifold import TSNE\n",
    "from sklearn.preprocessing import MinMaxScaler\n",
    "import sklearn.cluster as cluster\n",
    "from sklearn.cluster import KMeans\n",
    "from sklearn.metrics import adjusted_rand_score, adjusted_mutual_info_score\n",
    "from sklearn.metrics import silhouette_score\n",
    "from sklearn.decomposition import PCA\n",
    "\n",
    "import seaborn as sns\n",
    "import matplotlib.pyplot as plt\n",
    "from matplotlib import animation\n",
    "\n",
    "from functools import reduce\n",
    "\n",
    "%matplotlib inline \n",
    "\n",
    "warnings.filterwarnings('ignore')\n",
    "\n",
    "pd.set_option('display.max_columns', None) \n",
    "pd.set_option('display.max_colwidth', None)\n",
    "pd.set_option('display.max_rows', 200)\n",
    "\n",
    "base_path = 'data/'"
   ]
  },
  {
   "cell_type": "markdown",
   "id": "b6357e66-90b5-4304-9d4a-b6c1975ddbb4",
   "metadata": {},
   "source": [
    "### helpers"
   ]
  },
  {
   "cell_type": "code",
   "execution_count": 2,
   "id": "385fcc09-59eb-4fe2-a041-19b6604f2e58",
   "metadata": {},
   "outputs": [],
   "source": [
    "def na_check(df, na_only = True): \n",
    "    na = df.isna().mean()*100\n",
    "    if na_only == False:\n",
    "        print(na)\n",
    "    else:\n",
    "        print(na[na>0])"
   ]
  },
  {
   "cell_type": "markdown",
   "id": "c4090ccc-75a9-4177-9396-474c99894a15",
   "metadata": {},
   "source": [
    "## Ricoh Opps"
   ]
  },
  {
   "cell_type": "code",
   "execution_count": 3,
   "id": "0f8b9258-ecda-48bb-8f3a-474b9562f606",
   "metadata": {},
   "outputs": [],
   "source": [
    "base_path = 'data/'\n",
    "opp = pd.read_csv(f'{base_path}oppo.csv')\n",
    "lead = pd.read_csv(f'{base_path}lead.csv')"
   ]
  },
  {
   "cell_type": "code",
   "execution_count": 4,
   "id": "33ca0bc9-2687-402e-b21b-398dda313ca5",
   "metadata": {},
   "outputs": [
    {
     "data": {
      "text/plain": [
       "Index(['key', 'opportunity_number', 'quote_number', 'order_number',\n",
       "       'l2_rise_number', 'funnel_stage', 'customer_segment', 'crm_industry',\n",
       "       'a4_bw_flag', 'a4_c_flag', 'a3_bw_flag', 'a3_c_flag', 'docuware_flag',\n",
       "       'ransomcare_flag', 'it_health_check_flag', 'ms_flag', 'pp_bw_cs_flag',\n",
       "       'pp_c_cs_flag', 'wf_bw_flag', 'wf_c_flag', 'bw_lp_flag',\n",
       "       'color_lp_flag', 'mfp_flag', 'mindshift_flag', 'opp_date', 'opp_rev',\n",
       "       'quote_date', 'quote_rev', 'order_date', 'order_rev', 'close_date',\n",
       "       'sales_stage_status', 'start_date', 'open_days', 'close_days', 'win',\n",
       "       'rev', 'eloqua', 'eloqua oc', 'lead', 'opp', 'order', 'quote', 'sales',\n",
       "       'web', 'webinar', 'cs', 'hw', 'its', 'ms off', 'ms on', 'ps', 'refi',\n",
       "       'rent', 'supp', 'ts', 'svc_calls', 'cv', 'mif', 'renewal', 'sat', 'nps',\n",
       "       'department', 'job_type', 'employees_dnb', 'sales_dnb'],\n",
       "      dtype='object')"
      ]
     },
     "execution_count": 4,
     "metadata": {},
     "output_type": "execute_result"
    }
   ],
   "source": [
    "opp.columns"
   ]
  },
  {
   "cell_type": "markdown",
   "id": "e4f26639-1844-4dcf-bdc6-909807612160",
   "metadata": {},
   "source": [
    "### get column categories"
   ]
  },
  {
   "cell_type": "code",
   "execution_count": 5,
   "id": "15e1b81a-e0b2-4a66-8af3-fdb84ecd8565",
   "metadata": {},
   "outputs": [
    {
     "name": "stdout",
     "output_type": "stream",
     "text": [
      "37\n",
      "45\n",
      "60\n",
      "46\n",
      "59\n"
     ]
    }
   ],
   "source": [
    "# categorize\n",
    "print(opp.columns.get_loc(\"eloqua\"))\n",
    "print(opp.columns.get_loc(\"webinar\"))\n",
    "print(opp.columns.get_loc(\"sat\"))\n",
    "print(opp.columns.get_loc(\"cs\"))\n",
    "print(opp.columns.get_loc(\"renewal\"))\n",
    "eng_cols = opp.columns[37:46].tolist()\n",
    "sat_cols = opp.columns[60:62].tolist()\n",
    "key_cols = ['key', 'opportunity_number', 'lead_number', 'quote_number', 'order_number', 'l2_rise_number']\n",
    "cat_cols = opp.select_dtypes(include=['object']).columns\n",
    "inv_cols = opp.columns[53:67].tolist()\n",
    "flag_cols = [col for col in opp.columns if \"flag\" in col]\n",
    "rev_cols = [col for col in opp.columns if 'rev' in col]"
   ]
  },
  {
   "cell_type": "code",
   "execution_count": 6,
   "id": "83774f40-277f-41cf-ad1f-3a1df373a8e2",
   "metadata": {},
   "outputs": [
    {
     "name": "stdout",
     "output_type": "stream",
     "text": [
      "quote_number    29.477635\n",
      "order_number    53.153378\n",
      "quote_date      29.477635\n",
      "order_date      77.588368\n",
      "sat             84.738623\n",
      "nps             84.738623\n",
      "dtype: float64\n"
     ]
    }
   ],
   "source": [
    "na_check(opp)"
   ]
  },
  {
   "cell_type": "code",
   "execution_count": 7,
   "id": "429d0025-482f-4fa1-8088-44ccbb51a52e",
   "metadata": {},
   "outputs": [],
   "source": [
    "# drop columns that all values are the same or other columns consist information to cover\n",
    "opp.loc[:, opp.nunique() == 1].columns\n",
    "opp.drop(columns=opp.columns[opp.nunique() == 1], inplace=True)\n",
    "opp.drop(columns = ['quote_number', 'order_number', 'quote_date', 'order_date'], inplace = True)"
   ]
  },
  {
   "cell_type": "markdown",
   "id": "4403cacc-8f58-4335-b122-d836f98e9d5b",
   "metadata": {},
   "source": [
    "## MVP Stage of clustering: by company\n",
    "Each compony could have different lead/opp happended in the past, each intention to buy can be viewed as a lead/opp.\n",
    "So first, group variables into types: \n",
    "1. consistent information regarding the company: l2_rise_number, customer_segment, crm_industry, employee_dnb, sales_dnb\n",
    "2. progression stats: from eloqua to renewal, .. webinar, sat, nps\n",
    "3. specific to this opp: remaining vars: numbers, dates, funnel_stage, sales_stage_status, lead related, flags, revs, cs - renewal\n",
    "4. feature engineer: tenure, "
   ]
  },
  {
   "cell_type": "markdown",
   "id": "c65824ff-2c82-429c-8227-a1dc9cbf5ec6",
   "metadata": {},
   "source": [
    "### aggregate values for each company"
   ]
  },
  {
   "cell_type": "code",
   "execution_count": 8,
   "id": "9f4c87df-4e90-49bf-a511-584ffe6e88c6",
   "metadata": {},
   "outputs": [
    {
     "name": "stdout",
     "output_type": "stream",
     "text": [
      "Index(['pp_c_cs_flag', 'color_lp_flag', 'cs', 'a3_bw_flag', 'pp_bw_cs_flag',\n",
      "       'its', 'opp_rev', 'open_days', 'renewal', 'a4_bw_flag', 'rent', 'hw',\n",
      "       'supp', 'ts', 'mindshift_flag', 'ms on', 'refi', 'svc_calls',\n",
      "       'wf_c_flag', 'a3_c_flag', 'ms_flag', 'a4_c_flag', 'wf_bw_flag',\n",
      "       'close_days', 'it_health_check_flag', 'rev', 'mfp_flag', 'bw_lp_flag',\n",
      "       'docuware_flag', 'mif', 'ms off', 'order_rev', 'quote_rev', 'cv', 'ps',\n",
      "       'win', 'ransomcare_flag'],\n",
      "      dtype='object')\n",
      "Index(['department', 'sales_stage_status', 'job_type'], dtype='object')\n"
     ]
    }
   ],
   "source": [
    "con_cols = ['l2_rise_number', 'customer_segment', 'crm_industry', 'employees_dnb', 'sales_dnb']\n",
    "pro_cols = eng_cols + sat_cols\n",
    "key_cols = ['key', 'opportunity_number', 'lead_number', 'quote_number', 'order_number']\n",
    "date_cols = [col for col in opp.columns if 'date' in col]\n",
    "opp_cols = list(set(opp.columns.tolist()) - set(con_cols) - set(pro_cols) - set(key_cols) - set(date_cols))\n",
    "opp_num_cols = opp[opp_cols].select_dtypes(include=['number']).columns\n",
    "print(opp_num_cols)\n",
    "opp_cat_cols = opp[opp_cols].select_dtypes(include=['object']).columns\n",
    "print(opp_cat_cols)"
   ]
  },
  {
   "cell_type": "code",
   "execution_count": 9,
   "id": "c838846c-6c95-4a35-ac44-c0ae840b5d02",
   "metadata": {},
   "outputs": [],
   "source": [
    "#1. choose 1 for consistent cols\n",
    "l2_con = opp.sort_values(by = 'start_date')[con_cols].groupby('l2_rise_number').last().reset_index()\n",
    "\n",
    "#2. get max for engagement levels (an approximation of one-year engagement) \n",
    "l2_pro = opp.groupby('l2_rise_number')[eng_cols].agg('max').reset_index()\n",
    "\n",
    "# 3. features for deal-related: ideally want it be weighted, but need to define how to agg\n",
    "l2_opp_num = opp.groupby('l2_rise_number')[opp_num_cols].mean().reset_index()\n",
    "\n",
    "# 4. normalized frequency for all categorical variables\n",
    "comp = \"l2_rise_number\"\n",
    "res = []\n",
    "grouped = opp.groupby(comp)\n",
    "\n",
    "for col in opp_cat_cols:\n",
    "    col_res = grouped[col].apply(lambda x: x.value_counts(normalize=True) if not x.isna().all() else pd.Series([0], index=[np.nan]))\n",
    "    col_res = col_res.unstack(fill_value=0).add_prefix(f'{col}_')\n",
    "    res.append(col_res)\n",
    "\n",
    "l2_opp_cat = pd.concat(res, axis=1)\n",
    "l2_opp_cat.reset_index(inplace=True)"
   ]
  },
  {
   "cell_type": "code",
   "execution_count": 10,
   "id": "4d616e47-7c20-4b43-8acb-d473b3714639",
   "metadata": {},
   "outputs": [],
   "source": [
    "# 5. feature engineer:\n",
    "opp['start_date'] = pd.to_datetime(opp['start_date'], format='%Y-%m-%d')\n",
    "# tenure \n",
    "cur_ts = opp.start_date.max()\n",
    "tenure = opp.groupby('l2_rise_number')['start_date'].min().reset_index()\n",
    "tenure['tenure_yr'] = (cur_ts - tenure['start_date']).dt.days/365.25\n",
    "\n",
    "# email click rate: \n",
    "l2_pro['eloqua_rt'] = np.where(l2_pro['eloqua'] != 0, l2_pro['eloqua oc'] / l2_pro['eloqua'], 0)"
   ]
  },
  {
   "cell_type": "code",
   "execution_count": 11,
   "id": "a798aa29-4fba-4bd6-a571-f40c332d0f96",
   "metadata": {},
   "outputs": [
    {
     "name": "stdout",
     "output_type": "stream",
     "text": [
      "Series([], dtype: float64)\n"
     ]
    }
   ],
   "source": [
    "# 6. join them to one df\n",
    "\n",
    "dfs = [l2_con, l2_pro, l2_opp_num, l2_opp_cat, tenure]  \n",
    "l2 = reduce(lambda left, right: pd.merge(left, right, on = \"l2_rise_number\", how = \"inner\"), dfs)\n",
    "\n",
    "na_check(l2, True)"
   ]
  },
  {
   "cell_type": "markdown",
   "id": "341f118f-c8ee-4e92-921b-10aa2b37137c",
   "metadata": {},
   "source": [
    "### add label for deals"
   ]
  },
  {
   "cell_type": "code",
   "execution_count": 12,
   "id": "61b703d5-8ebb-4862-97e0-65eb77e16537",
   "metadata": {},
   "outputs": [
    {
     "name": "stdout",
     "output_type": "stream",
     "text": [
      "76.89062688326123 % of companies have 0 order_rev\n"
     ]
    }
   ],
   "source": [
    "# ranking for the largest deal of each comp \n",
    "top = opp.groupby('l2_rise_number').order_rev.max().reset_index()\n",
    "print(100*top[top.order_rev ==0].shape[0]/top.shape[0], \"% of companies have 0 order_rev\")"
   ]
  },
  {
   "cell_type": "code",
   "execution_count": 13,
   "id": "8f8ee8aa-6a52-4592-b9e9-8e82f855c1e6",
   "metadata": {},
   "outputs": [],
   "source": [
    "unique_values = top['order_rev'].unique()\n",
    "\n",
    "# Get thresholds for largest 10, top 1%, and top 10% values\n",
    "n_10 = top['order_rev'].nlargest(10).min()\n",
    "top_01p = np.percentile(top['order_rev'], 99.9)\n",
    "top_1p = np.percentile(top['order_rev'], 99)\n",
    "top_10p = np.percentile(top['order_rev'], 90)\n",
    "\n",
    "# Ensure bins are unique and monotonically increasing\n",
    "bins = sorted(set([-1, 0, top_1p, top_01p, top_10p, n_10, np.inf]))\n",
    "\n",
    "# Define labels, one less than bins\n",
    "labels = ['0', 'rest', 'top_10p', 'top_1p', 'top_01p', 'n_10']\n",
    "\n",
    "top['max_deal'] = pd.cut(top['order_rev'], bins=bins, labels=labels, right=False).fillna('rest')\n",
    "top['max_deal'] = np.where(top['order_rev'] == 0, '0', top['max_deal'])"
   ]
  },
  {
   "cell_type": "code",
   "execution_count": 14,
   "id": "d521cbb1-20ba-449e-8140-c2a30d35a097",
   "metadata": {},
   "outputs": [
    {
     "data": {
      "text/plain": [
       "74671"
      ]
     },
     "execution_count": 14,
     "metadata": {},
     "output_type": "execute_result"
    }
   ],
   "source": [
    "#top['l2_rise_number'].nunique()\n",
    "l2.l2_rise_number.nunique()"
   ]
  },
  {
   "cell_type": "code",
   "execution_count": 15,
   "id": "9b3a8b2a-d2bb-4f44-83d2-57f7e7961dfd",
   "metadata": {},
   "outputs": [
    {
     "data": {
      "text/plain": [
       "max_deal\n",
       "0          57415\n",
       "n_10          10\n",
       "rest        9788\n",
       "top_01p       65\n",
       "top_10p     6721\n",
       "top_1p       672\n",
       "dtype: int64"
      ]
     },
     "execution_count": 15,
     "metadata": {},
     "output_type": "execute_result"
    }
   ],
   "source": [
    "top.groupby('max_deal').size()"
   ]
  },
  {
   "cell_type": "code",
   "execution_count": 16,
   "id": "4e601259-32e8-4db0-b457-dd32fdff3b38",
   "metadata": {},
   "outputs": [
    {
     "data": {
      "text/plain": [
       "(74671, 87)"
      ]
     },
     "execution_count": 16,
     "metadata": {},
     "output_type": "execute_result"
    }
   ],
   "source": [
    "l2 = pd.merge(l2, top[['l2_rise_number', 'max_deal']], on = 'l2_rise_number', how = 'inner')\n",
    "l2.shape"
   ]
  },
  {
   "cell_type": "code",
   "execution_count": 17,
   "id": "4675bf07-0fa9-4aeb-a2e5-dbb9d1eed3ba",
   "metadata": {},
   "outputs": [],
   "source": [
    "l2['max_deal'] = l2['max_deal'].astype(str)"
   ]
  },
  {
   "cell_type": "code",
   "execution_count": 18,
   "id": "30ffd156-5a5f-4077-b309-9d8be83b9cc0",
   "metadata": {},
   "outputs": [],
   "source": [
    "# check point -- save file for later\n",
    "l2.to_csv(f'{base_path}l2_cleaned.csv', index = False)"
   ]
  },
  {
   "cell_type": "code",
   "execution_count": null,
   "id": "048fab1d-409c-4e21-88b4-ed272aaeb976",
   "metadata": {},
   "outputs": [],
   "source": [
    "se = manifold.SpectralEmbedding(\n",
    "    n_components=2, n_neighbors=n_neighbors, random_state=42\n",
    ")\n",
    "trans_data = se.fit_transform(X).T\n",
    "t1 = time()\n",
    "print(\"Spectral Embedding: %.2g sec\" % (t1 - t0))\n",
    "\n",
    "ax = fig.add_subplot(259)\n",
    "plt.scatter(X[0], X[1], c=colors, cmap=plt.cm.rainbow)\n",
    "plt.title(\"Spectral Embedding (%.2g sec)\" % (t1 - t0))\n",
    "ax.xaxis.set_major_formatter(NullFormatter())\n",
    "ax.yaxis.set_major_formatter(NullFormatter())\n",
    "plt.axis(\"tight\")"
   ]
  }
 ],
 "metadata": {
  "kernelspec": {
   "display_name": "Python 3 (ipykernel)",
   "language": "python",
   "name": "python3"
  },
  "language_info": {
   "codemirror_mode": {
    "name": "ipython",
    "version": 3
   },
   "file_extension": ".py",
   "mimetype": "text/x-python",
   "name": "python",
   "nbconvert_exporter": "python",
   "pygments_lexer": "ipython3",
   "version": "3.11.5"
  }
 },
 "nbformat": 4,
 "nbformat_minor": 5
}
