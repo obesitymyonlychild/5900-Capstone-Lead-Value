{
 "cells": [
  {
   "cell_type": "markdown",
   "id": "7fab4e59-4650-427c-8446-ed092c706a7c",
   "metadata": {},
   "source": [
    "# data transformation plan"
   ]
  },
  {
   "cell_type": "markdown",
   "id": "29e0fad3-ddf1-440f-9cb8-380e2ba39371",
   "metadata": {},
   "source": [
    "## import & load"
   ]
  },
  {
   "cell_type": "code",
   "execution_count": 1,
   "id": "faba8d7e-a947-4f79-9973-df805787681a",
   "metadata": {},
   "outputs": [],
   "source": [
    "import pandas as pd\n",
    "import numpy as np\n",
    "import matplotlib.pyplot as plt\n",
    "import seaborn as sns\n",
    "import squarify\n",
    "import statsmodels.api as sm\n",
    "from tabulate import tabulate\n",
    "import warnings\n",
    "\n",
    "from sklearn.impute import KNNImputer\n",
    "\n",
    "warnings.filterwarnings('ignore')\n",
    "\n",
    "pd.set_option('display.max_columns', None) \n",
    "pd.set_option('display.max_colwidth', None)\n",
    "pd.set_option('display.max_rows', 200)\n",
    "\n",
    "base_path = 'data/'"
   ]
  },
  {
   "cell_type": "code",
   "execution_count": 2,
   "id": "589daced-4492-4372-bb6d-0b6c1cca1bb4",
   "metadata": {},
   "outputs": [],
   "source": [
    "def na_check(df, threshold = -1): \n",
    "    na = df.isna().mean()*100\n",
    "    return na[na > threshold]"
   ]
  },
  {
   "cell_type": "code",
   "execution_count": 3,
   "id": "0f8b9258-ecda-48bb-8f3a-474b9562f606",
   "metadata": {},
   "outputs": [],
   "source": [
    "opp = pd.read_excel(f'{base_path}Copy of Ricoh_Opps_08022024.xlsx')\n",
    "opm = pd.read_csv(f'{base_path}Copy of Opp_Product_Mapping_08022024.csv')\n",
    "iwp = pd.read_csv(f'{base_path}Copy of Identified_Web_Pagviews_08022024.csv')\n",
    "opp.columns = opp.columns.str.lower()\n",
    "opm.columns = opm.columns.str.lower()\n",
    "iwp.columns = iwp.columns.str.lower()"
   ]
  },
  {
   "cell_type": "code",
   "execution_count": 3,
   "id": "063a1692-8c2c-4b01-a94e-965f95b67426",
   "metadata": {},
   "outputs": [],
   "source": [
    "#opp = pd.read_csv(f'{base_path}opp.csv')\n",
    "#opm = pd.read_csv(f'{base_path}opm.csv')\n",
    "#iwp = pd.read_csv(f'{base_path}iwp.csv')"
   ]
  },
  {
   "cell_type": "markdown",
   "id": "c4090ccc-75a9-4177-9396-474c99894a15",
   "metadata": {},
   "source": [
    "## Ricoh Opps"
   ]
  },
  {
   "cell_type": "code",
   "execution_count": 4,
   "id": "8819e094-0b7e-4498-80f6-fef547b12533",
   "metadata": {},
   "outputs": [],
   "source": [
    "eng_cols = opp.columns[44:53].tolist()\n",
    "sat_cols = opp.columns[67:69].tolist()\n",
    "key_cols = ['key', 'opportunity_number', 'lead_number', 'quote_number', 'order_number', 'l2_rise_number']\n",
    "inv_cols = opp.columns[53:67].tolist()\n",
    "flag_cols = [col for col in opp.columns if \"flag\" in col]\n",
    "rev_cols = [col for col in opp.columns if 'rev' in col]\n",
    "dt_cols = [col for col in opp.columns if 'date' in col]"
   ]
  },
  {
   "cell_type": "code",
   "execution_count": 5,
   "id": "ec9b177b-2158-4189-9843-0bc868d627c3",
   "metadata": {},
   "outputs": [],
   "source": [
    "# Before split to lead & opp cats\n",
    "\n",
    "# 1. filter based on problem of interest\n",
    "\n",
    "# remove missing l2 - remove for general purpose\n",
    "opp = opp[opp.l2_rise_number.notnull()]\n",
    "\n",
    "# closed deals for now\n",
    "opp = opp[opp.closed == 1].drop(['closed'], axis = 1)\n",
    "\n",
    "# 2. type conversion\n",
    "\n",
    "opp['quote_number'] = opp['quote_number'].apply(lambda x: str(int(x)) if pd.notna(x) else np.nan)\n",
    "opp['order_number'] = opp['order_number'].apply(lambda x: str(int(x)) if pd.notna(x) else np.nan)\n",
    "\n",
    "for col_name in dt_cols: \n",
    "    opp[col_name] = pd.to_datetime(opp[col_name])\n",
    "\n",
    "# drop some columns \n",
    "# opp.drop(columns = ['sat', 'nps'], inplace = True)\n",
    "\n",
    "# 3. clean up string col format\n",
    "\n",
    "# Remove trailing white spaces for char cols (department has trailing white spaces, so just clean all) \n",
    "num_cols = opp.select_dtypes(include=['number']).columns\n",
    "cat_cols = opp.select_dtypes(include=['object']).columns\n",
    "opp[cat_cols] = opp[cat_cols].apply(lambda x: x.str.rstrip())\n",
    "\n",
    "# 4. fix NAs not effected by lead/opp type\n",
    "# treat missing quote and order revenues as 0, probably is actual 0.\n",
    "opp['quote_rev'].fillna(0, inplace = True)\n",
    "opp['order_rev'].fillna(0, inplace = True)\n",
    "\n",
    "# 5.\n",
    "# add a opportunity ind\n",
    "opp['has_opp'] = opp['opportunity_number'].notna().astype(int)"
   ]
  },
  {
   "cell_type": "code",
   "execution_count": 6,
   "id": "2993a86f-7976-45a6-8b60-5d462ce932b1",
   "metadata": {},
   "outputs": [],
   "source": [
    "oppo = opp[opp.has_opp == 1]\n",
    "lead = opp[opp.has_opp == 0]"
   ]
  },
  {
   "cell_type": "markdown",
   "id": "1205ec44-f2ed-488d-9859-71a359580f9d",
   "metadata": {},
   "source": [
    "### opportunity"
   ]
  },
  {
   "cell_type": "markdown",
   "id": "032b5474-8b5c-44cf-a6d0-1c36677616dc",
   "metadata": {},
   "source": [
    "#### clean - drop lead-related cols"
   ]
  },
  {
   "cell_type": "code",
   "execution_count": 7,
   "id": "8e7afe30-12e4-4771-a5cc-c7386ef4c5e1",
   "metadata": {},
   "outputs": [],
   "source": [
    "lead_cols = [col for col in oppo.columns if \"lead\" in col]\n",
    "lead_cols.remove('lead')\n",
    "oppo.drop(columns = lead_cols, inplace = True)"
   ]
  },
  {
   "cell_type": "markdown",
   "id": "dc9afdb8-e3bf-45b5-ac05-719074286ebd",
   "metadata": {
    "jp-MarkdownHeadingCollapsed": true
   },
   "source": [
    "#### tests - skip"
   ]
  },
  {
   "cell_type": "code",
   "execution_count": 8,
   "id": "c340ad8f-b012-4fd8-a0bd-6d5d47777c5c",
   "metadata": {},
   "outputs": [
    {
     "data": {
      "text/plain": [
       "(array([6.7269e+04, 1.5620e+03, 1.3100e+03, 8.8900e+02, 1.7000e+02,\n",
       "        1.2490e+03, 1.8300e+02, 2.8000e+01, 1.5000e+01, 1.9960e+03]),\n",
       " array([0. , 0.1, 0.2, 0.3, 0.4, 0.5, 0.6, 0.7, 0.8, 0.9, 1. ]),\n",
       " <BarContainer object of 10 artists>)"
      ]
     },
     "execution_count": 8,
     "metadata": {},
     "output_type": "execute_result"
    },
    {
     "data": {
      "image/png": "[encoded data removed]",
      "text/plain": [
       "<Figure size 640x480 with 1 Axes>"
      ]
     },
     "metadata": {},
     "output_type": "display_data"
    }
   ],
   "source": [
    "# check if there's a pattern in engage cols NA\n",
    "engna = oppo[oppo.eloqua.isnull()]\n",
    "engna_l2 = oppo.groupby('l2_rise_number').agg(engna_perc =('eloqua', lambda x: x.isnull().mean()), count = ('eloqua', 'size')).sort_values(by = 'engna_perc', ascending = False)\n",
    "plt.hist(engna_l2.engna_perc) # so mostly are partial missing, than check dates"
   ]
  },
  {
   "cell_type": "code",
   "execution_count": 10,
   "id": "534609d6-f83b-49e2-9f2d-104cebb2a059",
   "metadata": {},
   "outputs": [
    {
     "data": {
      "text/html": [
       "<div>\n",
       "<style scoped>\n",
       "    .dataframe tbody tr th:only-of-type {\n",
       "        vertical-align: middle;\n",
       "    }\n",
       "\n",
       "    .dataframe tbody tr th {\n",
       "        vertical-align: top;\n",
       "    }\n",
       "\n",
       "    .dataframe thead th {\n",
       "        text-align: right;\n",
       "    }\n",
       "</style>\n",
       "<table border=\"1\" class=\"dataframe\">\n",
       "  <thead>\n",
       "    <tr style=\"text-align: right;\">\n",
       "      <th></th>\n",
       "      <th>l2_rise_number</th>\n",
       "      <th>open_days</th>\n",
       "    </tr>\n",
       "  </thead>\n",
       "  <tbody>\n",
       "    <tr>\n",
       "      <th>0</th>\n",
       "      <td>A-0000124194</td>\n",
       "      <td>1697.000000</td>\n",
       "    </tr>\n",
       "    <tr>\n",
       "      <th>1</th>\n",
       "      <td>A-0000124215</td>\n",
       "      <td>1052.000000</td>\n",
       "    </tr>\n",
       "    <tr>\n",
       "      <th>2</th>\n",
       "      <td>A-0000125086</td>\n",
       "      <td>1737.000000</td>\n",
       "    </tr>\n",
       "    <tr>\n",
       "      <th>3</th>\n",
       "      <td>A-0000125318</td>\n",
       "      <td>1697.000000</td>\n",
       "    </tr>\n",
       "    <tr>\n",
       "      <th>4</th>\n",
       "      <td>A-0000125694</td>\n",
       "      <td>624.666667</td>\n",
       "    </tr>\n",
       "    <tr>\n",
       "      <th>...</th>\n",
       "      <td>...</td>\n",
       "      <td>...</td>\n",
       "    </tr>\n",
       "    <tr>\n",
       "      <th>72670</th>\n",
       "      <td>O-9769008</td>\n",
       "      <td>688.000000</td>\n",
       "    </tr>\n",
       "    <tr>\n",
       "      <th>72671</th>\n",
       "      <td>O-9772011</td>\n",
       "      <td>732.800000</td>\n",
       "    </tr>\n",
       "    <tr>\n",
       "      <th>72672</th>\n",
       "      <td>O-9778008</td>\n",
       "      <td>1193.000000</td>\n",
       "    </tr>\n",
       "    <tr>\n",
       "      <th>72673</th>\n",
       "      <td>O-9903009</td>\n",
       "      <td>1565.000000</td>\n",
       "    </tr>\n",
       "    <tr>\n",
       "      <th>72674</th>\n",
       "      <td>O-9996008</td>\n",
       "      <td>1518.000000</td>\n",
       "    </tr>\n",
       "  </tbody>\n",
       "</table>\n",
       "<p>72675 rows × 2 columns</p>\n",
       "</div>"
      ],
      "text/plain": [
       "      l2_rise_number    open_days\n",
       "0       A-0000124194  1697.000000\n",
       "1       A-0000124215  1052.000000\n",
       "2       A-0000125086  1737.000000\n",
       "3       A-0000125318  1697.000000\n",
       "4       A-0000125694   624.666667\n",
       "...              ...          ...\n",
       "72670      O-9769008   688.000000\n",
       "72671      O-9772011   732.800000\n",
       "72672      O-9778008  1193.000000\n",
       "72673      O-9903009  1565.000000\n",
       "72674      O-9996008  1518.000000\n",
       "\n",
       "[72675 rows x 2 columns]"
      ]
     },
     "execution_count": 10,
     "metadata": {},
     "output_type": "execute_result"
    }
   ],
   "source": [
    "eng = oppo[oppo.eloqua.notnull()]\n",
    "engna_open = engna.groupby('l2_rise_number').open_days.mean().reset_index()\n",
    "eng_open = eng.groupby('l2_rise_number').open_days.mean().reset_index()"
   ]
  },
  {
   "cell_type": "code",
   "execution_count": 11,
   "id": "baf3cd75-70e4-482d-8284-c5fe44db4bf3",
   "metadata": {},
   "outputs": [
    {
     "data": {
      "text/plain": [
       "(array([1.000e+00, 4.290e+02, 7.660e+02, 1.357e+03, 2.301e+03, 1.727e+03,\n",
       "        6.340e+02, 2.880e+02, 2.530e+02, 5.000e+00]),\n",
       " array([-274.  ,  -27.15,  219.7 ,  466.55,  713.4 ,  960.25, 1207.1 ,\n",
       "        1453.95, 1700.8 , 1947.65, 2194.5 ]),\n",
       " <BarContainer object of 10 artists>)"
      ]
     },
     "execution_count": 11,
     "metadata": {},
     "output_type": "execute_result"
    },
    {
     "data": {
      "image/png": "[encoded data removed]",
      "text/plain": [
       "<Figure size 640x480 with 1 Axes>"
      ]
     },
     "metadata": {},
     "output_type": "display_data"
    }
   ],
   "source": [
    "days = eng_open.merge(engna_open, how = 'inner', on = 'l2_rise_number', suffixes = ('_ex', '_na'))\n",
    "days['diff'] = days.open_days_na - days.open_days_ex\n",
    "plt.hist(days['diff']) # so probably because it happened at the very beginning so just impute with 0 then"
   ]
  },
  {
   "cell_type": "code",
   "execution_count": 64,
   "id": "1368ad26-95d6-4344-8e3b-f8626fc0ae4b",
   "metadata": {},
   "outputs": [
    {
     "data": {
      "text/html": [
       "<div>\n",
       "<style scoped>\n",
       "    .dataframe tbody tr th:only-of-type {\n",
       "        vertical-align: middle;\n",
       "    }\n",
       "\n",
       "    .dataframe tbody tr th {\n",
       "        vertical-align: top;\n",
       "    }\n",
       "\n",
       "    .dataframe thead th {\n",
       "        text-align: right;\n",
       "    }\n",
       "</style>\n",
       "<table border=\"1\" class=\"dataframe\">\n",
       "  <thead>\n",
       "    <tr style=\"text-align: right;\">\n",
       "      <th></th>\n",
       "      <th>sum_order</th>\n",
       "      <th>sales_dnb</th>\n",
       "    </tr>\n",
       "  </thead>\n",
       "  <tbody>\n",
       "    <tr>\n",
       "      <th>sum_order</th>\n",
       "      <td>1.000000</td>\n",
       "      <td>0.071935</td>\n",
       "    </tr>\n",
       "    <tr>\n",
       "      <th>sales_dnb</th>\n",
       "      <td>0.071935</td>\n",
       "      <td>1.000000</td>\n",
       "    </tr>\n",
       "  </tbody>\n",
       "</table>\n",
       "</div>"
      ],
      "text/plain": [
       "           sum_order  sales_dnb\n",
       "sum_order   1.000000   0.071935\n",
       "sales_dnb   0.071935   1.000000"
      ]
     },
     "execution_count": 64,
     "metadata": {},
     "output_type": "execute_result"
    }
   ],
   "source": [
    "dnb = oppo.groupby('l2_rise_number').agg(sum_order = ('eloqua', 'sum'), sales_dnb = ('employees_dnb', 'mean')).reset_index()\n",
    "dnb.iloc[:, 1:].corr()"
   ]
  },
  {
   "cell_type": "code",
   "execution_count": 16,
   "id": "ce0b6244-be4e-4548-ba91-adade6db5c48",
   "metadata": {},
   "outputs": [
    {
     "data": {
      "text/plain": [
       "dt_match\n",
       "1    616006\n",
       "Name: count, dtype: int64"
      ]
     },
     "execution_count": 16,
     "metadata": {},
     "output_type": "execute_result"
    }
   ],
   "source": [
    "df = oppo[['key', 'l2_rise_number', 'start_date', 'close_date', 'open_days', 'close_days']]\n",
    "df['dt_diff'] = (df['close_date'] - df['start_date']).dt.days\n",
    "df['dt_match'] = np.where(df.dt_diff == df.close_days, 1, 0)\n",
    "df.dt_match.value_counts()"
   ]
  },
  {
   "cell_type": "markdown",
   "id": "6fef8e7c-b035-4708-8b1f-a63c0b9fa401",
   "metadata": {},
   "source": [
    "#### clean - fill NA"
   ]
  },
  {
   "cell_type": "code",
   "execution_count": 12,
   "id": "a3171375-d32b-4ed9-a2c7-3a90cd45afe2",
   "metadata": {},
   "outputs": [],
   "source": [
    "cat_cols = oppo.select_dtypes(include=['object']).columns\n",
    "cat_sub = list(set(cat_cols) - set(key_cols))\n",
    "\n",
    "for col in cat_sub:\n",
    "    oppo[col] = oppo[col].fillna(\"Unknown\")\n",
    "    \n",
    "for col in eng_cols:\n",
    "    oppo[col] = oppo[col].fillna(0)\n",
    "\n",
    "# impute inv to 0; checked if order_date na, no inv anyways\n",
    "for col in inv_cols:\n",
    "    oppo[col] = oppo[col].fillna(0)\n",
    "\n",
    "# impute dnb to median, suppose to use knn (has a decent cor with max eloqua, but it took too long)\n",
    "oppo['employees_dnb'].fillna(oppo['employees_dnb'].median(), inplace=True)\n",
    "oppo['sales_dnb'].fillna(oppo['sales_dnb'].median(), inplace=True)\n",
    "\n",
    "# impute days to median, compute close_date using that way\n",
    "oppo['close_days'].fillna(oppo['close_days'].median(), inplace=True)\n",
    "oppo['opp_rev'].fillna(oppo['opp_rev'].median(), inplace=True)\n",
    "\n",
    "# compute missing close_dates using start_date and the imputed close_days\n",
    "for index, row in oppo.iterrows():\n",
    "    if pd.isna(row['close_date']) and not pd.isna(row['start_date']):\n",
    "        oppo.at[index, 'close_date'] = pd.to_datetime(row['start_date']) + pd.Timedelta(days=row['close_days'])"
   ]
  },
  {
   "cell_type": "code",
   "execution_count": 13,
   "id": "7b71ff5d-c388-420c-b883-1f364219a22f",
   "metadata": {},
   "outputs": [
    {
     "data": {
      "text/plain": [
       "quote_number    29.477635\n",
       "order_number    53.153378\n",
       "quote_date      29.477635\n",
       "order_date      77.588368\n",
       "sat             84.738623\n",
       "nps             84.738623\n",
       "dtype: float64"
      ]
     },
     "execution_count": 13,
     "metadata": {},
     "output_type": "execute_result"
    }
   ],
   "source": [
    "na_check(oppo, 0)"
   ]
  },
  {
   "cell_type": "code",
   "execution_count": 21,
   "id": "cae37e22-2e20-4066-b162-04850bc04a37",
   "metadata": {},
   "outputs": [],
   "source": [
    "# save now\n",
    "oppo.drop(columns = ['has_opp'], inplace = True)\n",
    "oppo.to_csv('data/oppo.csv', index = False)"
   ]
  },
  {
   "cell_type": "markdown",
   "id": "49362e24-7e72-4eef-8e32-546cb33bb9ab",
   "metadata": {},
   "source": [
    "### lead\n"
   ]
  },
  {
   "cell_type": "code",
   "execution_count": 17,
   "id": "395815d8-34b7-4bef-8417-5c028030ce7b",
   "metadata": {},
   "outputs": [],
   "source": [
    "lead = lead.dropna(axis='columns', how='all')"
   ]
  },
  {
   "cell_type": "code",
   "execution_count": 18,
   "id": "1a3eef50-251f-4ce0-9671-7abe09305da6",
   "metadata": {},
   "outputs": [],
   "source": [
    "# treat unknown for cats, leave out keys\n",
    "cat_cols = lead.select_dtypes(include=['object']).columns\n",
    "cat_sub = list(set(cat_cols) - set(key_cols))\n",
    "\n",
    "for col in cat_sub:\n",
    "    lead[col] = lead[col].fillna(\"Unknown\")\n",
    "\n",
    "for col in eng_cols:\n",
    "    lead[col] = lead[col].fillna(0)\n",
    "\n",
    "# impute inv to 0; checked if order_date na, no inv anyways\n",
    "for col in inv_cols:\n",
    "    lead[col] = lead[col].fillna(0)\n",
    "\n",
    "for col in ['employees_dnb', 'sales_dnb']:\n",
    "    lead[col] = lead[col].fillna(lead[col].median())"
   ]
  },
  {
   "cell_type": "code",
   "execution_count": 19,
   "id": "b42a37c0-5c24-4fa5-9dec-6cb0e9a08a95",
   "metadata": {},
   "outputs": [
    {
     "data": {
      "text/plain": [
       "sat    89.965194\n",
       "nps    89.965194\n",
       "dtype: float64"
      ]
     },
     "execution_count": 19,
     "metadata": {},
     "output_type": "execute_result"
    }
   ],
   "source": [
    "na_check(lead, 0)"
   ]
  },
  {
   "cell_type": "code",
   "execution_count": 22,
   "id": "d6e45a48-91d4-4e14-95ae-770f57072112",
   "metadata": {},
   "outputs": [],
   "source": [
    "lead.drop(columns = ['has_opp'], inplace = True)\n",
    "lead.to_csv('data/lead.csv', index = False)"
   ]
  },
  {
   "cell_type": "markdown",
   "id": "7fbf3ed3-ee47-4f3d-b7a9-e9883833ab5a",
   "metadata": {},
   "source": [
    "## iwp & opm"
   ]
  },
  {
   "cell_type": "markdown",
   "id": "ce249421-352b-450e-826f-4cb1e722c35d",
   "metadata": {
    "jp-MarkdownHeadingCollapsed": true
   },
   "source": [
    "### tests"
   ]
  },
  {
   "cell_type": "code",
   "execution_count": 25,
   "id": "b2c1addd-9c12-42f3-9064-f2734183f806",
   "metadata": {},
   "outputs": [
    {
     "data": {
      "text/plain": [
       "pillar\n",
       "CUSTOM.ITS.HARDWARE                  19695\n",
       "CUSTOM.ITS.PROSERV                   13308\n",
       "CUSTOM.ITS.MRR                       11475\n",
       "CUSTOM.ITS.SOFTWARE SUPPORT MAINT     9873\n",
       "HARDWARE REFINANCE ONLY               8476\n",
       "dtype: int64"
      ]
     },
     "execution_count": 25,
     "metadata": {},
     "output_type": "execute_result"
    }
   ],
   "source": [
    "# a lot of misisng edp bcs prob they don't have one (missing for all occurrences of certain pillars)\n",
    "opm[opm.edp_code.isnull()].groupby('pillar').size().sort_values(ascending = False).head(5)"
   ]
  },
  {
   "cell_type": "code",
   "execution_count": 26,
   "id": "6af76d19-f095-479c-bf0f-5b8757c6a6ec",
   "metadata": {},
   "outputs": [
    {
     "data": {
      "text/plain": [
       "edp_code              1.000000\n",
       "pillar                0.000000\n",
       "category              0.000000\n",
       "offering              0.000000\n",
       "family                0.000000\n",
       "description           0.000000\n",
       "lead_number           0.996933\n",
       "opportunity_number    0.000000\n",
       "quantity              0.000000\n",
       "match                 0.000000\n",
       "dtype: float64"
      ]
     },
     "execution_count": 26,
     "metadata": {},
     "output_type": "execute_result"
    }
   ],
   "source": [
    "# example \n",
    "opm[opm.pillar == 'HARDWARE REFINANCE ONLY'].isna().mean()"
   ]
  },
  {
   "cell_type": "code",
   "execution_count": 33,
   "id": "b984f2ca-b591-4ede-a6b4-3b3e18549ba6",
   "metadata": {},
   "outputs": [],
   "source": [
    "iwp['month'] = pd.to_datetime(iwp['date']).dt.to_period('M')\n",
    "na_month = iwp.groupby('month').page.apply(lambda x: x.isna().mean()).sort_index()\n",
    "occ_month = iwp.month.value_counts(normalize=True).sort_index()"
   ]
  },
  {
   "cell_type": "code",
   "execution_count": 34,
   "id": "d4df30b7-1f96-4805-8fb4-649f7524f13b",
   "metadata": {},
   "outputs": [
    {
     "data": {
      "image/png": "[encoded data removed]",
      "text/plain": [
       "<Figure size 1400x900 with 1 Axes>"
      ]
     },
     "metadata": {},
     "output_type": "display_data"
    }
   ],
   "source": [
    "plt.figure(figsize = (14, 9))\n",
    "na_month.plot(kind = 'bar', label = '% missing') # 2023-7? \n",
    "occ_month.plot(kind = 'bar', alpha = 0.5, color = 'orange', label = '% of total entry')\n",
    "plt.title('% of missing page name total & % prop of total entry')\n",
    "plt.legend()\n",
    "plt.show()"
   ]
  },
  {
   "cell_type": "markdown",
   "id": "0eb66078-b47f-464b-b7c3-9d5f32f36367",
   "metadata": {},
   "source": [
    "### clean"
   ]
  },
  {
   "cell_type": "code",
   "execution_count": 28,
   "id": "135ea8cb-7717-4db0-852b-d3e4c3240484",
   "metadata": {},
   "outputs": [],
   "source": [
    "# drop if all these are missing\n",
    "descr = ['edp_code', 'pillar', 'category', 'offering', 'family', 'description', 'quantity']\n",
    "opm = opm.dropna(subset = descr, how = 'all')\n",
    "\n",
    "# prepare key match with opps\n",
    "opm['key'] = opm['lead_number'].fillna(opm['opportunity_number'])\n",
    "opm['quantity'].fillna(1, inplace = True)\n",
    "\n",
    "na_check(opm, 0)\n",
    "\n",
    "opm.to_csv(f'{base_path}opm.csv', index = False) "
   ]
  },
  {
   "cell_type": "code",
   "execution_count": 23,
   "id": "6c6fe07c-8ad3-466b-8fe6-f8f9f330a155",
   "metadata": {},
   "outputs": [],
   "source": [
    "iwp = iwp[iwp.page.notnull()]\n",
    "na_check(iwp, 0)\n",
    "iwp.to_csv(f'{base_path}iwp.csv', index = False)"
   ]
  }
 ],
 "metadata": {
  "kernelspec": {
   "display_name": "Python 3 (ipykernel)",
   "language": "python",
   "name": "python3"
  },
  "language_info": {
   "codemirror_mode": {
    "name": "ipython",
    "version": 3
   },
   "file_extension": ".py",
   "mimetype": "text/x-python",
   "name": "python",
   "nbconvert_exporter": "python",
   "pygments_lexer": "ipython3",
   "version": "3.11.7"
  }
 },
 "nbformat": 4,
 "nbformat_minor": 5
}
